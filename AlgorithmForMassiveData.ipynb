{
  "nbformat": 4,
  "nbformat_minor": 0,
  "metadata": {
    "colab": {
      "name": "AlgorithmForMassiveData.ipynb",
      "provenance": [],
      "collapsed_sections": [],
      "authorship_tag": "ABX9TyNEzy0mBXEz5OOnkIAU/FcZ",
      "include_colab_link": true
    },
    "kernelspec": {
      "display_name": "Python 3",
      "name": "python3"
    }
  },
  "cells": [
    {
      "cell_type": "markdown",
      "metadata": {
        "id": "view-in-github",
        "colab_type": "text"
      },
      "source": [
        "<a href=\"https://colab.research.google.com/github/SanzogniCarlo/Algorithms-For-Massive-Data/blob/main/AlgorithmForMassiveData.ipynb\" target=\"_parent\"><img src=\"https://colab.research.google.com/assets/colab-badge.svg\" alt=\"Open In Colab\"/></a>"
      ]
    },
    {
      "cell_type": "code",
      "metadata": {
        "id": "-ILYGTkqL8Dq"
      },
      "source": [
        "!apt-get install openjdk-8-jdk-headless -qq > /dev/null\n",
        "!wget -q https://downloads.apache.org/spark/spark-3.1.1/spark-3.1.1-bin-hadoop2.7.tgz\n",
        "!tar xf spark-3.1.1-bin-hadoop2.7.tgz\n",
        "!pip install -q findspark"
      ],
      "execution_count": null,
      "outputs": []
    },
    {
      "cell_type": "code",
      "metadata": {
        "id": "uMHdDC15L93C"
      },
      "source": [
        "import os\n",
        "os.environ[\"JAVA_HOME\"] = \"/usr/lib/jvm/java-8-openjdk-amd64\"\n",
        "os.environ[\"SPARK_HOME\"] = \"/content/spark-3.1.1-bin-hadoop2.7\""
      ],
      "execution_count": null,
      "outputs": []
    },
    {
      "cell_type": "code",
      "metadata": {
        "id": "molzng9NMTXX"
      },
      "source": [
        "import findspark\n",
        "findspark.init()\n",
        "from pyspark import SparkContext\n",
        "sc = SparkContext(\"local\", \"Models\")"
      ],
      "execution_count": null,
      "outputs": []
    },
    {
      "cell_type": "code",
      "metadata": {
        "id": "xNinvFwbXp0V"
      },
      "source": [
        "from pyspark.sql import SparkSession\n",
        "\n",
        "spark = SparkSession \\\n",
        "    .builder \\\n",
        "    .appName(\"American Survey Project\") \\\n",
        "    .config(\"spark.executor.memory\", \"12gb\") \\\n",
        "    .getOrCreate()"
      ],
      "execution_count": null,
      "outputs": []
    },
    {
      "cell_type": "code",
      "metadata": {
        "colab": {
          "resources": {
            "http://localhost:8080/nbextensions/google.colab/files.js": {
              "data": "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",
              "ok": true,
              "headers": [
                [
                  "content-type",
                  "application/javascript"
                ]
              ],
              "status": 200,
              "status_text": ""
            }
          },
          "base_uri": "https://localhost:8080/",
          "height": 73
        },
        "id": "fin2mrVWDbhw",
        "outputId": "2c5fe3d9-b50b-48ff-f048-78c05306bbce"
      },
      "source": [
        "###load kaggle api file\n",
        "from google.colab import files\n",
        "\n",
        "uploaded = files.upload()"
      ],
      "execution_count": null,
      "outputs": [
        {
          "output_type": "display_data",
          "data": {
            "text/html": [
              "\n",
              "     <input type=\"file\" id=\"files-a5f96922-1b45-4ffb-b550-b1c06cd9453f\" name=\"files[]\" multiple disabled\n",
              "        style=\"border:none\" />\n",
              "     <output id=\"result-a5f96922-1b45-4ffb-b550-b1c06cd9453f\">\n",
              "      Upload widget is only available when the cell has been executed in the\n",
              "      current browser session. Please rerun this cell to enable.\n",
              "      </output>\n",
              "      <script src=\"/nbextensions/google.colab/files.js\"></script> "
            ],
            "text/plain": [
              "<IPython.core.display.HTML object>"
            ]
          },
          "metadata": {
            "tags": []
          }
        },
        {
          "output_type": "stream",
          "text": [
            "Saving kaggle.json to kaggle.json\n"
          ],
          "name": "stdout"
        }
      ]
    },
    {
      "cell_type": "code",
      "metadata": {
        "id": "uBwRGee9Ft2I"
      },
      "source": [
        "!mkdir ~/.kaggle/\n",
        "!cp kaggle.json ~/.kaggle/\n",
        "!chmod 600 ~/.kaggle/kaggle.json"
      ],
      "execution_count": null,
      "outputs": []
    },
    {
      "cell_type": "code",
      "metadata": {
        "id": "vOu00uuEF5GQ"
      },
      "source": [
        "from kaggle.api.kaggle_api_extended import KaggleApi\n",
        "api = KaggleApi()\n",
        "api.authenticate()"
      ],
      "execution_count": null,
      "outputs": []
    },
    {
      "cell_type": "code",
      "metadata": {
        "colab": {
          "base_uri": "https://localhost:8080/"
        },
        "id": "qtNuOJtHGAK3",
        "outputId": "bab19474-81f6-4ce7-acf3-7fbb22b07f79"
      },
      "source": [
        "###download dataset from kaggle\n",
        "dataset=api.dataset_download_file(dataset='census/2013-american-community-survey', file_name='ss13husa.csv',quiet=False,force=True)\n",
        "dataset=api.dataset_download_file(dataset='census/2013-american-community-survey', file_name='ss13husb.csv',quiet=False,force=True)\n",
        "!unzip ss13husa.csv\n",
        "!unzip ss13husb.csv"
      ],
      "execution_count": null,
      "outputs": [
        {
          "output_type": "stream",
          "text": [
            "\r  0%|          | 0.00/134M [00:00<?, ?B/s]"
          ],
          "name": "stderr"
        },
        {
          "output_type": "stream",
          "text": [
            "Downloading ss13husa.csv.zip to /content\n"
          ],
          "name": "stdout"
        },
        {
          "output_type": "stream",
          "text": [
            "100%|██████████| 134M/134M [00:03<00:00, 41.5MB/s]\n"
          ],
          "name": "stderr"
        },
        {
          "output_type": "stream",
          "text": [
            "\n"
          ],
          "name": "stdout"
        },
        {
          "output_type": "stream",
          "text": [
            "\r  0%|          | 0.00/128M [00:00<?, ?B/s]"
          ],
          "name": "stderr"
        },
        {
          "output_type": "stream",
          "text": [
            "Downloading ss13husb.csv.zip to /content\n"
          ],
          "name": "stdout"
        },
        {
          "output_type": "stream",
          "text": [
            "100%|██████████| 128M/128M [00:05<00:00, 26.2MB/s]\n"
          ],
          "name": "stderr"
        },
        {
          "output_type": "stream",
          "text": [
            "\n",
            "Archive:  ss13husa.csv.zip\n",
            "  inflating: ss13husa.csv            \n",
            "Archive:  ss13husb.csv.zip\n",
            "  inflating: ss13husb.csv            \n"
          ],
          "name": "stdout"
        }
      ]
    },
    {
      "cell_type": "code",
      "metadata": {
        "id": "YYa4zeOPVPF3"
      },
      "source": [
        "###read and join files\n",
        "data=spark.read.csv('ss13husa.csv',header= True)\n",
        "data1=spark.read.csv('ss13husb.csv',header= True)\n",
        "data = data.union(data1)"
      ],
      "execution_count": null,
      "outputs": []
    },
    {
      "cell_type": "code",
      "metadata": {
        "id": "ytJwpejl_A7u"
      },
      "source": [
        "import pyspark.sql.functions as sf\n",
        "from pyspark.sql.types import IntegerType, DoubleType\n",
        "from pyspark.ml.linalg import Vectors\n",
        "from pyspark.ml.feature import VectorAssembler \n",
        "import numpy as np\n",
        "from pyspark.ml.feature import PCA\n",
        "from pyspark.sql import Row\n",
        "from pyspark.ml import Pipeline\n",
        "from pyspark.ml.regression import LinearRegression\n",
        "from pyspark.ml.feature import VectorIndexer\n",
        "from pyspark.ml.evaluation import RegressionEvaluator\n",
        "from pyspark.ml.feature import MinMaxScaler\n",
        "from pyspark.ml.feature import MaxAbsScaler\n",
        "from pyspark.sql.functions import col\n",
        "from pyspark.sql.functions import count"
      ],
      "execution_count": null,
      "outputs": []
    },
    {
      "cell_type": "code",
      "metadata": {
        "id": "p4LvcP-QD_WO"
      },
      "source": [
        "#selecting only useful columns\n",
        "df=data.select(data.columns[4:151])###dropping wgtp\n",
        "df=df.drop('ST','HINCP','ADJHSG','ADJINC')##dropping adjustment factors and other objective variables"
      ],
      "execution_count": null,
      "outputs": []
    },
    {
      "cell_type": "code",
      "metadata": {
        "colab": {
          "base_uri": "https://localhost:8080/"
        },
        "id": "AwLslHLlO32R",
        "outputId": "5244a904-a13f-49ba-96ae-4d7d6296a6b8"
      },
      "source": [
        "#checking no-null values by variable\n",
        "def my_count(df_in):\n",
        "    df_in.agg( *[ count(c).alias(c) for c in df_in.columns ] ).show()\n",
        "my_count(df)"
      ],
      "execution_count": null,
      "outputs": [
        {
          "output_type": "stream",
          "text": [
            "+-------+-------+-------+-------+-------+-------+------+-------+-------+-------+--------+-------+--------+-----+------+------+-------+-------+-------+-------+-------+--------+-------+------+-------+-----+------+------+------+------+------+--------+-------+-------+------+------+-------+-------+---------+-------+-----+-------+-------+-------+-------+------+------+-------+-------+-------+------+-------+------+-------+------+------+------+------+------+-------+-------+-------+-------+-------+-------+-------+-------+-------+-------+-------+------+-------+-------+-------+------+-------+-------+-------+-------+-------+-------+-------+------+------+-------+-------+-------+------+------+-------+--------+--------+-------+-------+-------+-------+-------+----------+-------+----------+-------+--------+-------+-------+---------+-------+-------+-------+----------+-------+-------+-------+--------+-------+-------+-------+-------+-------+-------+-------+----------+-------+-------+-------+-------+-------+-------+--------+-----------+-------+-------+-------+-------+-------+-------+-------+-------+-------+-------+-------+-------+-------+-------+\n",
            "| REGION|   WGTP|     NP|   TYPE| ACCESS|    ACR|   AGS|   BATH|   BDSP|    BLD|BROADBND|    BUS|COMPOTHX| CONP|DIALUP|   DSL|   ELEP|FIBEROP|     FS|   FULP|   GASP|HANDHELD|    HFL|  INSP| LAPTOP|  MHP| MODEM|  MRGI|  MRGP|  MRGT|  MRGX|OTHSVCEX|   REFR|   RMSP|  RNTM|  RNTP|   RWAT| RWATPR|SATELLITE|   SINK|  SMP|   STOV|    TEL|    TEN|   TOIL|  VACS|  VALP|    VEH|   WATP|    YBL|   FES| FFINCP|FGRNTP| FHINCP| FINCP| FPARC|FSMOCP| GRNTP| GRPIP|    HHL|    HHT|  HUGCL|  HUPAC| HUPAOC| HUPARC|    KIT|   LNGI|  MULTG|     MV|    NOC|   NPF|    NPP|     NR|    NRC| OCPIP|PARTNER|    PLM|    PSF|    R18|    R60|    R65|RESMODE| SMOCP|   SMX|   SRNT|   SSMC|   SVAL|  TAXP|   WIF|WKEXREL|WORKSTAT|FACCESSP|  FACRP|  FAGSP| FBATHP|  FBDSP|  FBLDP|FBROADBNDP|  FBUSP|FCOMPOTHXP|  FCONP|FDIALUPP|  FDSLP|  FELEP|FFIBEROPP|   FFSP|  FFULP|  FGASP|FHANDHELDP|  FHFLP|  FINSP|  FKITP|FLAPTOPP|   FMHP|FMODEMP| FMRGIP|  FMRGP| FMRGTP| FMRGXP|   FMVP|FOTHSVCEXP|  FPLMP| FREFRP|  FRMSP| FRNTMP|  FRNTP| FRWATP|FRWATPRP|FSATELLITEP| FSINKP|   FSMP| FSMXHP| FSMXSP| FSTOVP|  FTAXP|  FTELP|  FTENP| FTOILP| FVACSP|  FVALP|  FVEHP|  FWATP|  FYBLP|\n",
            "+-------+-------+-------+-------+-------+-------+------+-------+-------+-------+--------+-------+--------+-----+------+------+-------+-------+-------+-------+-------+--------+-------+------+-------+-----+------+------+------+------+------+--------+-------+-------+------+------+-------+-------+---------+-------+-----+-------+-------+-------+-------+------+------+-------+-------+-------+------+-------+------+-------+------+------+------+------+------+-------+-------+-------+-------+-------+-------+-------+-------+-------+-------+-------+------+-------+-------+-------+------+-------+-------+-------+-------+-------+-------+-------+------+------+-------+-------+-------+------+------+-------+--------+--------+-------+-------+-------+-------+-------+----------+-------+----------+-------+--------+-------+-------+---------+-------+-------+-------+----------+-------+-------+-------+--------+-------+-------+-------+-------+-------+-------+-------+----------+-------+-------+-------+-------+-------+-------+--------+-----------+-------+-------+-------+-------+-------+-------+-------+-------+-------+-------+-------+-------+-------+-------+\n",
            "|1476313|1476313|1476313|1476313|1211264|1048888|240718|1328057|1328057|1328057|  910225|1048888| 1211264|45304|910225|910225|1211264| 910225|1359520|1211264|1211264| 1211264|1211264|847365|1211264|55791|910225|517290|517290|517290|847365|  910225|1328057|1328057|359751|359751|1328057|1328057|   910225|1328057|92382|1328057|1211264|1211264|1328057|116793|859691|1211264|1211264|1328057|809366|1328057|339292|1328057|812468|812468|847365|339292|331644|1211264|1211264|1211264|1211264|1211264|1211264|1328057|1211264|1211264|1211259|1211264|812468|1211264|1211264|1211264|840643|1211264|1328057|1211264|1211264|1211264|1211264|1328057|847365|517290|1328057|1211264|1328057|847365|812468| 812468|  809366| 1328057|1328057|1328057|1328057|1328057|1328057|   1328057|1328057|   1328057|1328057| 1328057|1328057|1328057|  1328057|1476313|1328057|1328057|   1328057|1328057|1328057|1328057| 1328057|1328057|1328057|1328057|1328057|1328057|1328057|1476313|   1328057|1328057|1328057|1328057|1328057|1328057|1328057| 1328057|    1328057|1328057|1328057|1328057|1328057|1328057|1328057|1328057|1328057|1328057|1328057|1328057|1328057|1328057|1328057|\n",
            "+-------+-------+-------+-------+-------+-------+------+-------+-------+-------+--------+-------+--------+-----+------+------+-------+-------+-------+-------+-------+--------+-------+------+-------+-----+------+------+------+------+------+--------+-------+-------+------+------+-------+-------+---------+-------+-----+-------+-------+-------+-------+------+------+-------+-------+-------+------+-------+------+-------+------+------+------+------+------+-------+-------+-------+-------+-------+-------+-------+-------+-------+-------+-------+------+-------+-------+-------+------+-------+-------+-------+-------+-------+-------+-------+------+------+-------+-------+-------+------+------+-------+--------+--------+-------+-------+-------+-------+-------+----------+-------+----------+-------+--------+-------+-------+---------+-------+-------+-------+----------+-------+-------+-------+--------+-------+-------+-------+-------+-------+-------+-------+----------+-------+-------+-------+-------+-------+-------+--------+-----------+-------+-------+-------+-------+-------+-------+-------+-------+-------+-------+-------+-------+-------+-------+\n",
            "\n"
          ],
          "name": "stdout"
        }
      ]
    },
    {
      "cell_type": "code",
      "metadata": {
        "colab": {
          "base_uri": "https://localhost:8080/"
        },
        "id": "_nki5hqPQ4K5",
        "outputId": "b98398e0-72be-4146-ab3f-8b822fc04c35"
      },
      "source": [
        "##removing null raws on target variable\n",
        "df=df.na.drop(subset='FINCP')\n",
        "my_count(df)"
      ],
      "execution_count": null,
      "outputs": [
        {
          "output_type": "stream",
          "text": [
            "+------+------+------+------+------+------+------+------+------+------+--------+------+--------+-----+------+------+------+-------+------+------+------+--------+------+------+------+-----+------+------+------+------+------+--------+------+------+------+------+------+------+---------+------+-----+------+------+------+------+----+------+------+------+------+------+------+------+------+------+------+------+------+------+------+------+------+------+------+------+------+------+------+------+------+------+------+------+------+------+-------+------+------+------+------+------+-------+------+------+------+------+------+------+------+-------+--------+--------+------+------+------+------+------+----------+------+----------+------+--------+------+------+---------+------+------+------+----------+------+------+------+--------+------+-------+------+------+------+------+------+----------+------+------+------+------+------+------+--------+-----------+------+------+------+------+------+------+------+------+------+------+------+------+------+------+\n",
            "|REGION|  WGTP|    NP|  TYPE|ACCESS|   ACR|   AGS|  BATH|  BDSP|   BLD|BROADBND|   BUS|COMPOTHX| CONP|DIALUP|   DSL|  ELEP|FIBEROP|    FS|  FULP|  GASP|HANDHELD|   HFL|  INSP|LAPTOP|  MHP| MODEM|  MRGI|  MRGP|  MRGT|  MRGX|OTHSVCEX|  REFR|  RMSP|  RNTM|  RNTP|  RWAT|RWATPR|SATELLITE|  SINK|  SMP|  STOV|   TEL|   TEN|  TOIL|VACS|  VALP|   VEH|  WATP|   YBL|   FES|FFINCP|FGRNTP|FHINCP| FINCP| FPARC|FSMOCP| GRNTP| GRPIP|   HHL|   HHT| HUGCL| HUPAC|HUPAOC|HUPARC|   KIT|  LNGI| MULTG|    MV|   NOC|   NPF|   NPP|    NR|   NRC| OCPIP|PARTNER|   PLM|   PSF|   R18|   R60|   R65|RESMODE| SMOCP|   SMX|  SRNT|  SSMC|  SVAL|  TAXP|   WIF|WKEXREL|WORKSTAT|FACCESSP| FACRP| FAGSP|FBATHP| FBDSP| FBLDP|FBROADBNDP| FBUSP|FCOMPOTHXP| FCONP|FDIALUPP| FDSLP| FELEP|FFIBEROPP|  FFSP| FFULP| FGASP|FHANDHELDP| FHFLP| FINSP| FKITP|FLAPTOPP|  FMHP|FMODEMP|FMRGIP| FMRGP|FMRGTP|FMRGXP|  FMVP|FOTHSVCEXP| FPLMP|FREFRP| FRMSP|FRNTMP| FRNTP|FRWATP|FRWATPRP|FSATELLITEP|FSINKP|  FSMP|FSMXHP|FSMXSP|FSTOVP| FTAXP| FTELP| FTENP|FTOILP|FVACSP| FVALP| FVEHP| FWATP| FYBLP|\n",
            "+------+------+------+------+------+------+------+------+------+------+--------+------+--------+-----+------+------+------+-------+------+------+------+--------+------+------+------+-----+------+------+------+------+------+--------+------+------+------+------+------+------+---------+------+-----+------+------+------+------+----+------+------+------+------+------+------+------+------+------+------+------+------+------+------+------+------+------+------+------+------+------+------+------+------+------+------+------+------+------+-------+------+------+------+------+------+-------+------+------+------+------+------+------+------+-------+--------+--------+------+------+------+------+------+----------+------+----------+------+--------+------+------+---------+------+------+------+----------+------+------+------+--------+------+-------+------+------+------+------+------+----------+------+------+------+------+------+------+--------+-----------+------+------+------+------+------+------+------+------+------+------+------+------+------+------+\n",
            "|812468|812468|812468|812468|812468|705469|184922|812468|812468|812468|  668736|705469|  812468|21619|668736|668736|812468| 668736|812468|812468|812468|  812468|812468|620857|812468|35960|668736|407145|407145|407145|620857|  668736|812468|812468|178604|178604|812468|812468|   668736|812468|76393|812468|812468|812468|812468|   0|620857|812468|812468|812468|809366|812468|178604|812468|812468|812468|620857|178604|175940|812468|812468|812468|812468|812468|812468|812468|812468|812468|812465|812468|812468|812468|812468|812468|618418| 812468|812468|812468|812468|812468|812468| 812468|620857|407145|812468|812468|812468|620857|812468| 812468|  809366|  812468|812468|812468|812468|812468|812468|    812468|812468|    812468|812468|  812468|812468|812468|   812468|812468|812468|812468|    812468|812468|812468|812468|  812468|812468| 812468|812468|812468|812468|812468|812468|    812468|812468|812468|812468|812468|812468|812468|  812468|     812468|812468|812468|812468|812468|812468|812468|812468|812468|812468|812468|812468|812468|812468|812468|\n",
            "+------+------+------+------+------+------+------+------+------+------+--------+------+--------+-----+------+------+------+-------+------+------+------+--------+------+------+------+-----+------+------+------+------+------+--------+------+------+------+------+------+------+---------+------+-----+------+------+------+------+----+------+------+------+------+------+------+------+------+------+------+------+------+------+------+------+------+------+------+------+------+------+------+------+------+------+------+------+------+------+-------+------+------+------+------+------+-------+------+------+------+------+------+------+------+-------+--------+--------+------+------+------+------+------+----------+------+----------+------+--------+------+------+---------+------+------+------+----------+------+------+------+--------+------+-------+------+------+------+------+------+----------+------+------+------+------+------+------+--------+-----------+------+------+------+------+------+------+------+------+------+------+------+------+------+------+\n",
            "\n"
          ],
          "name": "stdout"
        }
      ]
    },
    {
      "cell_type": "code",
      "metadata": {
        "colab": {
          "base_uri": "https://localhost:8080/"
        },
        "id": "g-aZX-VaMhl1",
        "outputId": "9a7f4820-5b12-4dff-c259-248cc8fed140"
      },
      "source": [
        "#all df from strings to integers (all the values are whole numbers)\n",
        "for c in df.columns:\n",
        "  df = df.withColumn(c ,df[c].cast(IntegerType()))\n",
        "df = df.na.fill(0)\n",
        "df.describe().show()"
      ],
      "execution_count": null,
      "outputs": [
        {
          "output_type": "stream",
          "text": [
            "+-------+------------------+-----------------+------------------+------+------------------+------------------+------------------+-------------------+------------------+-----------------+------------------+------------------+-------------------+-----------------+------------------+------------------+------------------+------------------+------------------+------------------+-----------------+------------------+------------------+-----------------+------------------+------------------+------------------+------------------+-----------------+------------------+------------------+------------------+-------------------+------------------+-------------------+------------------+-------------------+------+------------------+-------------------+------------------+------------------+------------------+------------------+------------------+------+------------------+------------------+-----------------+------------------+------------------+------------------+--------------------+------------------+-----------------+------------------+------------------+------------------+------------------+------------------+------------------+------------------+------------------+-----------------+------------------+-------------------+-------------------+-------------------+------------------+------------------+------------------+-------------------+--------------------+------------------+------------------+-------------------+--------------------+--------------------+-------------------+------------------+------------------+------------------+------------------+------------------+-------------------+--------------------+------------------+------------------+------------------+-----------------+------------------+-------------------+--------------------+--------------------+-------------------+--------------------+--------------------+-------------------+--------------------+-------------------+--------------------+--------------------+-------------------+-------------------+--------------------+--------------------+-------------------+-------------------+-------------------+-------------------+-------------------+-------------------+-------------------+--------------------+--------------------+-------------------+-------------------+-------------------+-------------------+-------------------+--------------------+--------------------+--------------------+--------------------+--------------------+--------------------+--------------------+--------+--------------------+--------------------+-------------------+--------------------+--------------------+--------------------+-------------------+--------------------+--------------------+--------------------+------+-------------------+--------------------+-------------------+-------------------+\n",
            "|summary|            REGION|             WGTP|                NP|  TYPE|            ACCESS|               ACR|               AGS|               BATH|              BDSP|              BLD|          BROADBND|               BUS|           COMPOTHX|             CONP|            DIALUP|               DSL|              ELEP|           FIBEROP|                FS|              FULP|             GASP|          HANDHELD|               HFL|             INSP|            LAPTOP|               MHP|             MODEM|              MRGI|             MRGP|              MRGT|              MRGX|          OTHSVCEX|               REFR|              RMSP|               RNTM|              RNTP|               RWAT|RWATPR|         SATELLITE|               SINK|               SMP|              STOV|               TEL|               TEN|              TOIL|  VACS|              VALP|               VEH|             WATP|               YBL|               FES|            FFINCP|              FGRNTP|            FHINCP|            FINCP|             FPARC|            FSMOCP|             GRNTP|             GRPIP|               HHL|               HHT|             HUGCL|             HUPAC|           HUPAOC|            HUPARC|                KIT|               LNGI|              MULTG|                MV|               NOC|               NPF|                NPP|                  NR|               NRC|             OCPIP|            PARTNER|                 PLM|                 PSF|                R18|               R60|               R65|           RESMODE|             SMOCP|               SMX|               SRNT|                SSMC|              SVAL|              TAXP|               WIF|          WKEXREL|          WORKSTAT|           FACCESSP|               FACRP|               FAGSP|             FBATHP|               FBDSP|               FBLDP|         FBROADBNDP|               FBUSP|         FCOMPOTHXP|               FCONP|            FDIALUPP|              FDSLP|              FELEP|           FFIBEROPP|                FFSP|              FFULP|              FGASP|         FHANDHELDP|              FHFLP|              FINSP|              FKITP|           FLAPTOPP|                FMHP|             FMODEMP|             FMRGIP|              FMRGP|             FMRGTP|             FMRGXP|               FMVP|          FOTHSVCEXP|               FPLMP|              FREFRP|               FRMSP|              FRNTMP|               FRNTP|              FRWATP|FRWATPRP|         FSATELLITEP|              FSINKP|               FSMP|              FSMXHP|              FSMXSP|              FSTOVP|              FTAXP|               FTELP|               FTENP|              FTOILP|FVACSP|              FVALP|               FVEHP|              FWATP|              FYBLP|\n",
            "+-------+------------------+-----------------+------------------+------+------------------+------------------+------------------+-------------------+------------------+-----------------+------------------+------------------+-------------------+-----------------+------------------+------------------+------------------+------------------+------------------+------------------+-----------------+------------------+------------------+-----------------+------------------+------------------+------------------+------------------+-----------------+------------------+------------------+------------------+-------------------+------------------+-------------------+------------------+-------------------+------+------------------+-------------------+------------------+------------------+------------------+------------------+------------------+------+------------------+------------------+-----------------+------------------+------------------+------------------+--------------------+------------------+-----------------+------------------+------------------+------------------+------------------+------------------+------------------+------------------+------------------+-----------------+------------------+-------------------+-------------------+-------------------+------------------+------------------+------------------+-------------------+--------------------+------------------+------------------+-------------------+--------------------+--------------------+-------------------+------------------+------------------+------------------+------------------+------------------+-------------------+--------------------+------------------+------------------+------------------+-----------------+------------------+-------------------+--------------------+--------------------+-------------------+--------------------+--------------------+-------------------+--------------------+-------------------+--------------------+--------------------+-------------------+-------------------+--------------------+--------------------+-------------------+-------------------+-------------------+-------------------+-------------------+-------------------+-------------------+--------------------+--------------------+-------------------+-------------------+-------------------+-------------------+-------------------+--------------------+--------------------+--------------------+--------------------+--------------------+--------------------+--------------------+--------+--------------------+--------------------+-------------------+--------------------+--------------------+--------------------+-------------------+--------------------+--------------------+--------------------+------+-------------------+--------------------+-------------------+-------------------+\n",
            "|  count|            812468|           812468|            812468|812468|            812468|            812468|            812468|             812468|            812468|           812468|            812468|            812468|             812468|           812468|            812468|            812468|            812468|            812468|            812468|            812468|           812468|            812468|            812468|           812468|            812468|            812468|            812468|            812468|           812468|            812468|            812468|            812468|             812468|            812468|             812468|            812468|             812468|812468|            812468|             812468|            812468|            812468|            812468|            812468|            812468|812468|            812468|            812468|           812468|            812468|            812468|            812468|              812468|            812468|           812468|            812468|            812468|            812468|            812468|            812468|            812468|            812468|            812468|           812468|            812468|             812468|             812468|             812468|            812468|            812468|            812468|             812468|              812468|            812468|            812468|             812468|              812468|              812468|             812468|            812468|            812468|            812468|            812468|            812468|             812468|              812468|            812468|            812468|            812468|           812468|            812468|             812468|              812468|              812468|             812468|              812468|              812468|             812468|              812468|             812468|              812468|              812468|             812468|             812468|              812468|              812468|             812468|             812468|             812468|             812468|             812468|             812468|             812468|              812468|              812468|             812468|             812468|             812468|             812468|             812468|              812468|              812468|              812468|              812468|              812468|              812468|              812468|  812468|              812468|              812468|             812468|              812468|              812468|              812468|             812468|              812468|              812468|              812468|812468|             812468|              812468|             812468|             812468|\n",
            "|   mean| 2.646776242264311|94.42516259101897|   3.0748718718768|   1.0|1.3180334487019796|1.1460315975521498|0.2933814008674803| 1.0018339183820162| 3.104257644608772|2.557324103841628| 1.269642619770871|1.7223398336919116| 1.9460914152926638|8.723656808637386|1.6144992787408243|1.3902873713180088|152.88344894814318| 1.551664804029205|1.8720835774455118|140.23190328726793|52.78672513871316|1.3038851991709213|2.2223570651397964| 742.072689632084|1.1384312982172837| 52.72509194208264|1.1978219449873717| 0.719513876238818| 625.753437673853|0.6768229641044324|1.2973852508652648|1.6327486128684452| 1.0020148485848057| 6.596423489909756|0.43808740775021293|200.44220572379467|  1.002358246724794|   9.0|1.5876649911134961|  1.001777300767538|37.346701654711325|1.0026339498909496|1.0168375862187804|1.7507261824465703| 1.001948384428679|   0.0| 203556.1283152075| 2.125961884037279|454.7508738805713|5.2095233289188005| 3.111244996726025|0.3029830097923857|0.042191200145728816|0.3097992782484972|88154.62186203025| 3.134906236307153|0.2323094571109262|240.99299541643487| 8.165960997848531|1.3720823466278056|1.4104297030775366|0.0585955385319791| 3.121484169222665|3.216313750203085|3.1229845360063413| 1.0040346204404358|  1.035777409079496| 1.0563283723174328|4.3132911080805645|0.7194375655410429|3.0029736555778195|0.00840279247921149|0.059050941083218046|  0.80654745786911| 16.61655474430993|0.10308467533490549|  1.0031139687963095|0.047084931344988354| 0.4357931635461335|0.6331129349094364|0.4401994909337968|2.1246769103521617|1030.6736474544227|1.3953854182564729|0.23188728663775066|0.007389829507131357|0.6448303194710437|26.173761920469484|1.4557422569258112|6.382029815328111| 5.821352964055199|0.04409527513699001|0.029356233107026983|0.008412639020859898|0.00989208190353343|0.018766277564162527|0.009170822727787433|  0.259809617117228|0.020229719816657395|0.03853936401187493|0.003548447446545587|0.045430712348055555|0.04552056204059729|0.06547950196192343|0.045505792228124675|0.014607344535415548|0.09606162950417739|0.09728136985087413|0.03523215683571537|0.03190156412314085|0.16571729594273252|0.01632187359994486|0.03405918756184859|0.009744383778807288|0.045505792228124675|0.05245991226731391|0.05256945504315247|0.04963641644963248|0.01587631759035433|0.02634688381573182|0.045505792228124675|0.012362333039578174|0.010969047396328225|0.029190072716710074|0.004069083336205241|0.012969126168661412|0.007173205590866348|     0.0|0.045505792228124675|0.009953622788835992|0.04301215555566496|0.016899127104082867|0.014533495473052478|0.010160400163452592|0.11537808258294481|0.011846620420742724|0.011415834223624808|0.009044048504064161|   0.0|0.07891387722347219|0.012244174539797259|0.07559559268795817|0.09243564054215059|\n",
            "| stddev|1.0141143764694873|73.38717582391693|1.3344621435473876|   0.0|0.7064983403452543|0.6988166265039631|0.7371994101780253|0.04278501347980185|1.0755995423691915|1.613015159327312|0.7421266309070903|0.6811446959796696|0.22583735735476249|67.19214535883066|0.7685742796061122|0.7692721550484308| 95.67881758792873|0.7753368745130258|0.3339969291743936| 566.8708091496914|75.59390149922008|0.4599339575004429|1.5142828058419482|923.8628770217814|0.3453523138602069|509.83164970946746|0.7158944300112343|0.7991242999406124|885.6112739227414|0.7550746449519826|1.0985017973622078|0.7656332727436405|0.04484184925829682|2.4606913106020687| 0.8262472726360065| 456.9908329903272|0.04850451827314115|   0.0|0.7720954371801515|0.04212059060801091|170.91895519036984|0.0512544186612104|0.1286627462950626|0.8502062559708453|0.0440975126309147|   0.0|329265.94154223567|1.0411773421371884|536.8948446815598|2.8671583174103095|2.3412846537330503|0.4595482189055205| 0.20102525342541885|0.4624110169789528|88801.67991045801|1.0649988148776515|0.4223055679886729| 526.9269978141346|19.839793532592473|0.8319123361960984|0.7678045865735174|0.2348662795947968|1.0879934007760907|1.060862018236186|1.0891020464474603|0.06339043480045162|0.18573483394102522|0.23055487896441568|1.7495617759996562|1.0857211735986518|1.2870361797070384|0.09128086225040223| 0.23572016424047035|1.1288858195521188|18.975740568127705| 0.5851313043247692|0.055716028353093916| 0.21182066898570065|0.49586065056961093|0.8512425295523274| 0.751284568523175|0.8471072282906689|1110.3448263482842|1.4393116057127524|0.42203766675689447| 0.12032831634240991|0.4785650012791119| 22.63552130455631|0.8885996846791979| 4.61757439321861|4.8810376558094255| 0.2053069256691033| 0.16880307981877304|  0.0913338753852821|0.09896585610235516| 0.13569866268678135| 0.09532434066066763|0.43853029161931767| 0.14078530693301264|0.19249448574000957| 0.05946310048478957| 0.20824700742207275|0.20844302326842515|0.24737019242615724| 0.20841081680773368| 0.11997494629052409|0.29467592320697156|0.29634070428905074|0.18436619483249297|0.17573813570787508| 0.3718269004996328| 0.1267102592670122|  0.181381365628868| 0.09823157659471551| 0.20841081680773368|0.22295275520527055|0.22317250892904905|0.21719277306730617|0.12499711740981972| 0.1601647810937213| 0.20841081680773368| 0.11049670035386154| 0.10415728850333773|  0.1683390841440973| 0.06365949171125246| 0.11314125547611213| 0.08439051770196182|     0.0| 0.20841081680773368| 0.09927013806468091|0.20288459944815082| 0.12889362690015105| 0.11967577286366733| 0.10028548653980215|0.31947786506610854| 0.10819562104660962| 0.10623336031129683| 0.09466923851829813|   0.0| 0.2696044633698487| 0.10997394971300016| 0.2643501183371556| 0.2896401148921342|\n",
            "|    min|                 1|                1|                 2|     1|                 1|                 0|                 0|                  1|                 0|                1|                 0|                 0|                  1|                0|                 0|                 0|                 1|                 0|                 1|                 1|                1|                 1|                 1|                0|                 1|                 0|                 0|                 0|                0|                 0|                 0|                 0|                  1|                 1|                  0|                 0|                  1|     9|                 0|                  1|                 0|                 1|                 1|                 1|                 1|     0|                 0|                 0|                1|                 1|                 0|                 0|                   0|                 0|           -19770|                 1|                 0|                 0|                 0|                 1|                 1|                 0|                 1|                1|                 1|                  1|                  1|                  1|                 0|                 0|                 2|                  0|                   0|                 0|                 0|                  0|                   1|                   0|                  0|                 0|                 0|                 1|                 0|                 0|                  0|                   0|                 0|                 0|                 0|                1|                 0|                  0|                   0|                   0|                  0|                   0|                   0|                  0|                   0|                  0|                   0|                   0|                  0|                  0|                   0|                   0|                  0|                  0|                  0|                  0|                  0|                  0|                  0|                   0|                   0|                  0|                  0|                  0|                  0|                  0|                   0|                   0|                   0|                   0|                   0|                   0|                   0|       0|                   0|                   0|                  0|                   0|                   0|                   0|                  0|                   0|                   0|                   0|     0|                  0|                   0|                  0|                  0|\n",
            "|    max|                 4|             1829|                20|     1|                 3|                 3|                 6|                  2|                19|               10|                 2|                 2|                  2|             1600|                 2|                 2|               600|                 2|                 2|              7200|              550|                 2|                 9|             9100|                 2|             12800|                 2|                 2|             7300|                 2|                 3|                 2|                  2|                25|                  2|              3900|                  2|     9|                 2|                  2|              3500|                 2|                 2|                 4|                 2|     0|           4775000|                 6|             4000|                17|                 8|                 1|                   1|                 1|          2060000|                 4|                 1|              4663|               101|                 5|                 3|                 1|                 4|                4|                 4|                  2|                  2|                  2|                 7|                18|                20|                  1|                   1|                18|               101|                  4|                   2|                   1|                  1|                 2|                 2|                 3|             13071|                 4|                  1|                   2|                 1|                68|                 3|               15|                15|                  1|                   1|                   1|                  1|                   1|                   1|                  1|                   1|                  1|                   1|                   1|                  1|                  1|                   1|                   1|                  1|                  1|                  1|                  1|                  1|                  1|                  1|                   1|                   1|                  1|                  1|                  1|                  1|                  1|                   1|                   1|                   1|                   1|                   1|                   1|                   1|       0|                   1|                   1|                  1|                   1|                   1|                   1|                  1|                   1|                   1|                   1|     0|                  1|                   1|                  1|                  1|\n",
            "+-------+------------------+-----------------+------------------+------+------------------+------------------+------------------+-------------------+------------------+-----------------+------------------+------------------+-------------------+-----------------+------------------+------------------+------------------+------------------+------------------+------------------+-----------------+------------------+------------------+-----------------+------------------+------------------+------------------+------------------+-----------------+------------------+------------------+------------------+-------------------+------------------+-------------------+------------------+-------------------+------+------------------+-------------------+------------------+------------------+------------------+------------------+------------------+------+------------------+------------------+-----------------+------------------+------------------+------------------+--------------------+------------------+-----------------+------------------+------------------+------------------+------------------+------------------+------------------+------------------+------------------+-----------------+------------------+-------------------+-------------------+-------------------+------------------+------------------+------------------+-------------------+--------------------+------------------+------------------+-------------------+--------------------+--------------------+-------------------+------------------+------------------+------------------+------------------+------------------+-------------------+--------------------+------------------+------------------+------------------+-----------------+------------------+-------------------+--------------------+--------------------+-------------------+--------------------+--------------------+-------------------+--------------------+-------------------+--------------------+--------------------+-------------------+-------------------+--------------------+--------------------+-------------------+-------------------+-------------------+-------------------+-------------------+-------------------+-------------------+--------------------+--------------------+-------------------+-------------------+-------------------+-------------------+-------------------+--------------------+--------------------+--------------------+--------------------+--------------------+--------------------+--------------------+--------+--------------------+--------------------+-------------------+--------------------+--------------------+--------------------+-------------------+--------------------+--------------------+--------------------+------+-------------------+--------------------+-------------------+-------------------+\n",
            "\n"
          ],
          "name": "stdout"
        }
      ]
    },
    {
      "cell_type": "code",
      "metadata": {
        "colab": {
          "base_uri": "https://localhost:8080/"
        },
        "id": "JS4gyHdONgBv",
        "outputId": "c3df3b11-4d41-4802-8861-9329a71c5d32"
      },
      "source": [
        "#creating the dense vector of regressors and label\n",
        "names=df.columns\n",
        "names.remove('FINCP')\n",
        "vectorAssembler = VectorAssembler(inputCols = names,    \n",
        "                                  outputCol = 'features') \n",
        "data = vectorAssembler.transform(df)\n",
        "data = data.select(['features', 'FINCP'])\n",
        "data.show(10)"
      ],
      "execution_count": null,
      "outputs": [
        {
          "output_type": "stream",
          "text": [
            "+--------------------+------+\n",
            "|            features| FINCP|\n",
            "+--------------------+------+\n",
            "|(142,[0,1,2,3,4,5...|151000|\n",
            "|(142,[0,1,2,3,4,5...| 11400|\n",
            "|(142,[0,1,2,3,4,5...|136000|\n",
            "|(142,[0,1,2,3,4,5...| 52600|\n",
            "|(142,[0,1,2,3,4,5...| 81600|\n",
            "|(142,[0,1,2,3,4,5...| 26300|\n",
            "|(142,[0,1,2,3,4,5...| 35000|\n",
            "|(142,[0,1,2,3,4,5...| 60000|\n",
            "|(142,[0,1,2,3,4,5...|108500|\n",
            "|(142,[0,1,2,3,4,5...|175000|\n",
            "+--------------------+------+\n",
            "only showing top 10 rows\n",
            "\n"
          ],
          "name": "stdout"
        }
      ]
    },
    {
      "cell_type": "code",
      "metadata": {
        "id": "ROF3alxu4JMG"
      },
      "source": [
        "#deal categories\n",
        "featureIndexer = VectorIndexer(inputCol=\"features\", \\\n",
        "                               outputCol=\"IndexedFeatures\",\\\n",
        "                               maxCategories=5).fit(data)\n",
        "\n",
        "data = featureIndexer.transform(data)\n"
      ],
      "execution_count": null,
      "outputs": []
    },
    {
      "cell_type": "code",
      "metadata": {
        "colab": {
          "base_uri": "https://localhost:8080/"
        },
        "id": "-TA68BG65Bv8",
        "outputId": "acbbf449-66d5-4b0b-ac6e-2c13efdba622"
      },
      "source": [
        "###preprocess for linear regression/ridge/lasso\n",
        "#PCA on indexed features\n",
        "\n",
        "pca = PCA(k=20, inputCol=\"IndexedFeatures\", outputCol=\"PCA_Features\")\n",
        "model = pca.fit(data)\n",
        "\n",
        "data_pca = model.transform(data).select(['IndexedFeatures','FINCP','PCA_Features'])\n",
        "data_pca.show(10)"
      ],
      "execution_count": null,
      "outputs": [
        {
          "output_type": "stream",
          "text": [
            "+--------------------+------+--------------------+\n",
            "|     IndexedFeatures| FINCP|        PCA_Features|\n",
            "+--------------------+------+--------------------+\n",
            "|(142,[0,1,2,3,4,5...|151000|[-25001.462468135...|\n",
            "|(142,[0,1,2,3,4,5...| 11400|[0.08293104694177...|\n",
            "|(142,[0,1,2,3,4,5...|136000|[-390006.15851081...|\n",
            "|(142,[0,1,2,3,4,5...| 52600|[-120002.79847907...|\n",
            "|(142,[0,1,2,3,4,5...| 81600|[-160003.36067697...|\n",
            "|(142,[0,1,2,3,4,5...| 26300|[1.10189965855541...|\n",
            "|(142,[0,1,2,3,4,5...| 35000|[-40001.520012774...|\n",
            "|(142,[0,1,2,3,4,5...| 60000|[-60003.360772212...|\n",
            "|(142,[0,1,2,3,4,5...|108500|[0.57439156180636...|\n",
            "|(142,[0,1,2,3,4,5...|175000|[-250005.72899708...|\n",
            "+--------------------+------+--------------------+\n",
            "only showing top 10 rows\n",
            "\n"
          ],
          "name": "stdout"
        }
      ]
    },
    {
      "cell_type": "code",
      "metadata": {
        "id": "LaS0FmvFU8Mm"
      },
      "source": [
        "# Split dataset\n",
        "(trainingData, testData) = data_pca.randomSplit([0.7, 0.3])"
      ],
      "execution_count": null,
      "outputs": []
    },
    {
      "cell_type": "code",
      "metadata": {
        "colab": {
          "base_uri": "https://localhost:8080/"
        },
        "id": "iDGPg9Y6-w5P",
        "outputId": "d82a03a8-1667-4b00-bcef-2d9b58d26508"
      },
      "source": [
        "#scaling input\n",
        "\n",
        "#maxAbs\n",
        "ABSscaler = MaxAbsScaler(inputCol=\"PCA_Features\", outputCol=\"scaled_PCA_Features\")\n",
        "scalerModel = ABSscaler.fit(trainingData)\n",
        "#scaled train\n",
        "data_input_train = scalerModel.transform(trainingData)\n",
        "#scaled test on train\n",
        "data_input_test = scalerModel.transform(testData) \n",
        "\n",
        "data_input_train.show(5)"
      ],
      "execution_count": null,
      "outputs": [
        {
          "output_type": "stream",
          "text": [
            "+--------------------+------+--------------------+--------------------+\n",
            "|     IndexedFeatures| FINCP|        PCA_Features| scaled_PCA_Features|\n",
            "+--------------------+------+--------------------+--------------------+\n",
            "|(142,[0,1,2,3,4,5...| 68500|[-351.97028034589...|[-7.3710714675661...|\n",
            "|(142,[0,1,2,3,4,5...|161200|[-479006.91542431...|[-0.1003151232990...|\n",
            "|(142,[0,1,2,3,4,5...| 76000|[-217010.50401744...|[-0.0454470170820...|\n",
            "|(142,[0,1,2,3,4,5...|102000|[-190003.92910934...|[-0.0397912158721...|\n",
            "|(142,[0,1,2,3,4,5...|136264|[-500008.22604167...|[-0.1047132833176...|\n",
            "+--------------------+------+--------------------+--------------------+\n",
            "only showing top 5 rows\n",
            "\n"
          ],
          "name": "stdout"
        }
      ]
    },
    {
      "cell_type": "code",
      "metadata": {
        "colab": {
          "base_uri": "https://localhost:8080/"
        },
        "id": "5C-gTUzDCRz_",
        "outputId": "fd09dd09-1dc9-4ba3-9d85-2a0b9c04f437"
      },
      "source": [
        "#scaling target variable\n",
        "\n",
        "target_min = data_input_train.agg({\"FINCP\": \"min\"}).collect()[0][0]\n",
        "target_max = data_input_train.agg({\"FINCP\": \"max\"}).collect()[0][0]\n",
        "\n",
        "#scaled train\n",
        "data_input_train = data_input_train.withColumn('scaled_FINCP', (col('FINCP') - target_min )/ target_max)\n",
        "#scaled test computed on train values\n",
        "data_input_test = data_input_test.withColumn('scaled_FINCP', (col('FINCP')-target_min )/ target_max) \n",
        "\n",
        "\n",
        "data_input_test.show(5)"
      ],
      "execution_count": null,
      "outputs": [
        {
          "output_type": "stream",
          "text": [
            "+--------------------+------+--------------------+--------------------+-------------------+\n",
            "|     IndexedFeatures| FINCP|        PCA_Features| scaled_PCA_Features|       scaled_FINCP|\n",
            "+--------------------+------+--------------------+--------------------+-------------------+\n",
            "|(142,[0,1,2,3,4,5...| 51200|[-4727016.3490513...|[-0.9899465177278...|0.03445145631067961|\n",
            "|(142,[0,1,2,3,4,5...|180000|[-4727002.1819880...|[-0.9899435508172...|0.09697572815533981|\n",
            "|(142,[0,1,2,3,4,5...|130200|[-4727008.7124058...|[-0.9899449184376...|0.07280097087378641|\n",
            "|(142,[0,1,2,3,4,5...|429600|[-4726998.1756776...|[-0.9899427118031...|0.21814077669902912|\n",
            "|(142,[0,1,2,3,4,5...| 30000|[-300006.91405946...|[-0.0628283843204...|0.02416019417475728|\n",
            "+--------------------+------+--------------------+--------------------+-------------------+\n",
            "only showing top 5 rows\n",
            "\n"
          ],
          "name": "stdout"
        }
      ]
    },
    {
      "cell_type": "code",
      "metadata": {
        "id": "CJmfC81Ego_m"
      },
      "source": [
        "###linear regression/ridge/lasso\n",
        "\n",
        "from pyspark.ml.regression import LinearRegression\n",
        "from pyspark.ml.tuning import ParamGridBuilder, TrainValidationSplit\n",
        "\n",
        "\n",
        "model= LinearRegression(featuresCol = 'scaled_PCA_Features', \n",
        "                            labelCol = 'scaled_FINCP')\n",
        "param = ParamGridBuilder() \\\n",
        "  .addGrid(model.fitIntercept, [True, False]) \\\n",
        "  .addGrid(model.regParam, [0.0001, 0.001, 0.01, 0.05, 0.1]) \\\n",
        "  .addGrid(model.elasticNetParam, [0, 0.25, 0.5, 0.75, 1]) \\\n",
        "  .build()\n",
        "evaluator= RegressionEvaluator(metricName='rmse', predictionCol='prediction', labelCol='scaled_FINCP')\n",
        "validation= TrainValidationSplit(estimator=model, estimatorParamMaps=param, evaluator=evaluator, parallelism=2)\n",
        "validation_Model = validation.fit(data_input_train)#actually validated\n",
        "\n"
      ],
      "execution_count": null,
      "outputs": []
    },
    {
      "cell_type": "code",
      "metadata": {
        "colab": {
          "base_uri": "https://localhost:8080/"
        },
        "id": "26MVAzuiCAIM",
        "outputId": "73335e20-f438-457b-dd5d-d134e4f7ac25"
      },
      "source": [
        "bestModel = validation_Model.bestModel\n",
        "print ('Best Param (regParam): ', bestModel._java_obj.getRegParam())\n",
        "print ('Best Param (elasticNetParam): ', bestModel._java_obj.getElasticNetParam())\n",
        "print ('Best Param (Intercept): ', bestModel._java_obj.getFitIntercept())"
      ],
      "execution_count": null,
      "outputs": [
        {
          "output_type": "stream",
          "text": [
            "Best Param (regParam):  0.0001\n",
            "Best Param (elasticNetParam):  0.0\n",
            "Best Param (Intercept):  True\n"
          ],
          "name": "stdout"
        }
      ]
    },
    {
      "cell_type": "code",
      "metadata": {
        "colab": {
          "base_uri": "https://localhost:8080/"
        },
        "id": "jN-7pzcOCSWG",
        "outputId": "cec4453e-3cc4-4674-d92e-22b0ae625ebd"
      },
      "source": [
        "print ('Number of models to be tested: ', len(param))\n"
      ],
      "execution_count": null,
      "outputs": [
        {
          "output_type": "stream",
          "text": [
            "Number of models to be tested:  50\n"
          ],
          "name": "stdout"
        }
      ]
    },
    {
      "cell_type": "code",
      "metadata": {
        "colab": {
          "base_uri": "https://localhost:8080/"
        },
        "id": "WLgPEf2dn0AR",
        "outputId": "17955ecc-fbc1-4c6a-c6cc-354f71e1996d"
      },
      "source": [
        "evaluator.evaluate(validation_Model.transform(data_input_train))"
      ],
      "execution_count": null,
      "outputs": [
        {
          "output_type": "execute_result",
          "data": {
            "text/plain": [
              "0.028923378015497447"
            ]
          },
          "metadata": {
            "tags": []
          },
          "execution_count": 24
        }
      ]
    },
    {
      "cell_type": "code",
      "metadata": {
        "colab": {
          "base_uri": "https://localhost:8080/"
        },
        "id": "u7yU53UVimrE",
        "outputId": "0b447c8e-dfbd-4402-a0e0-b91408eeadfb"
      },
      "source": [
        "evaluato= RegressionEvaluator(metricName='r2', predictionCol='prediction', labelCol='scaled_FINCP')\n",
        "evaluato.evaluate(validation_Model.transform(data_input_train))"
      ],
      "execution_count": null,
      "outputs": [
        {
          "output_type": "execute_result",
          "data": {
            "text/plain": [
              "0.5529906522793915"
            ]
          },
          "metadata": {
            "tags": []
          },
          "execution_count": 25
        }
      ]
    },
    {
      "cell_type": "code",
      "metadata": {
        "colab": {
          "base_uri": "https://localhost:8080/"
        },
        "id": "zyURWAWvn7oZ",
        "outputId": "a115e6e5-ffcc-43d1-e33d-17d1919a59ca"
      },
      "source": [
        "Ridge=bestModel.transform(data_input_test).select('scaled_pca_Features', 'scaled_fincp', 'prediction') \n",
        "Ridge.show() "
      ],
      "execution_count": null,
      "outputs": [
        {
          "output_type": "stream",
          "text": [
            "+--------------------+--------------------+--------------------+\n",
            "| scaled_pca_Features|        scaled_fincp|          prediction|\n",
            "+--------------------+--------------------+--------------------+\n",
            "|[-0.9899465177278...| 0.03445145631067961| 0.21442034612579838|\n",
            "|[-0.9899435508172...| 0.09697572815533981| 0.24078772650038519|\n",
            "|[-0.9899449184376...| 0.07280097087378641|  0.2568684060921241|\n",
            "|[-0.9899427118031...| 0.21814077669902912|  0.2515444946390748|\n",
            "|[-0.0628283843204...| 0.02416019417475728|0.004503438202366927|\n",
            "|[-0.0178017255266...| 0.04964563106796117| 0.05523359668631297|\n",
            "|[-0.0628278541581...|  0.0853252427184466| 0.07389086161540696|\n",
            "|[-0.2513118741065...| 0.10634466019417475| 0.19697028977792813|\n",
            "|[-0.1308904357954...| 0.03789805825242718| 0.08077050785880471|\n",
            "|[-0.0837709462490...| 0.10061650485436893| 0.09950622802711212|\n",
            "|[-0.0557076419604...|  0.0785388349514563|  0.0776622864866936|\n",
            "|[-0.0240849670418...|0.020674757281553397|-6.20632742235810...|\n",
            "|[-0.0083775268634...|0.028480582524271846| 0.04110340804807255|\n",
            "|[-0.0073300294648...| 0.01013106796116505|-0.06451890665013246|\n",
            "|[-0.1015724602269...| 0.09697572815533981| 0.11557173158444883|\n",
            "|[-0.0052363108835...|0.039694174757281556| 0.04882948397695999|\n",
            "|[-0.0795816872582...|0.047898058252427184| 0.06059225949666813|\n",
            "|[-0.0261784996719...| 0.02590776699029126|0.025315826170720885|\n",
            "|[-0.0309957686948...|0.024888349514563108| 0.01232166492991774|\n",
            "|[-0.0942410536540...| 0.06343203883495145| 0.07114277016345985|\n",
            "+--------------------+--------------------+--------------------+\n",
            "only showing top 20 rows\n",
            "\n"
          ],
          "name": "stdout"
        }
      ]
    },
    {
      "cell_type": "code",
      "metadata": {
        "colab": {
          "base_uri": "https://localhost:8080/"
        },
        "id": "fJ1x2sIZpqID",
        "outputId": "fd4f153a-8db7-4d15-a507-3bdfebc8b367"
      },
      "source": [
        "Ridge_evaluator = RegressionEvaluator(labelCol=\"scaled_fincp\", predictionCol=\"prediction\", metricName=\"rmse\")\n",
        "rmse = Ridge_evaluator.evaluate(Ridge)\n",
        "\n",
        "Ridge_evaluator2 = RegressionEvaluator(labelCol=\"scaled_fincp\", predictionCol=\"prediction\", metricName=\"r2\")\n",
        "r2 = Ridge_evaluator2.evaluate(Ridge)\n",
        "\n",
        "\n",
        "print(\"Root Mean Squared Error (RMSE) on test data = %g\" % rmse)\n",
        "print(\"R Squared (R2) on test data = %g\" % r2)"
      ],
      "execution_count": null,
      "outputs": [
        {
          "output_type": "stream",
          "text": [
            "Root Mean Squared Error (RMSE) on test data = 0.0287423\n",
            "R Squared (R2) on test data = 0.547936\n"
          ],
          "name": "stdout"
        }
      ]
    },
    {
      "cell_type": "code",
      "metadata": {
        "colab": {
          "base_uri": "https://localhost:8080/"
        },
        "id": "kTVYUWhf841N",
        "outputId": "95a6fd07-b83a-4ffa-9887-dd615489207a"
      },
      "source": [
        "y_true = Ridge.select(\"scaled_FINCP\").toPandas()\n",
        "y_pred = Ridge.select(\"prediction\").toPandas()\n",
        "\n",
        "import sklearn.metrics\n",
        "r2_score = sklearn.metrics.r2_score(y_true, y_pred)\n",
        "print('r2_score: {0}'.format(r2_score))"
      ],
      "execution_count": null,
      "outputs": [
        {
          "output_type": "stream",
          "text": [
            "r2_score: 0.5479361821082294\n"
          ],
          "name": "stdout"
        }
      ]
    },
    {
      "cell_type": "code",
      "metadata": {
        "id": "xE3mMfdzVpsW"
      },
      "source": [
        "from pyspark.ml.regression import LinearRegression\n",
        "\n",
        "#define the model\n",
        "Linear= LinearRegression(featuresCol = 'scaled_PCA_Features', \n",
        "                            labelCol = 'scaled_FINCP')\n",
        "\n",
        "# Fit the model\n",
        "Linear_Model = Linear.fit(data_input_train)"
      ],
      "execution_count": null,
      "outputs": []
    },
    {
      "cell_type": "code",
      "metadata": {
        "id": "kg1v9RLwF24L"
      },
      "source": [
        "predictions = Linear_Model.transform(data_input_test)"
      ],
      "execution_count": null,
      "outputs": []
    },
    {
      "cell_type": "code",
      "metadata": {
        "id": "hRxuq5ti7Nt-"
      },
      "source": [
        "def modelsummary(model):\n",
        "    import numpy as np\n",
        "    print (\"Note: the last rows are the information for Intercept\")\n",
        "    print (\"##\",\"-------------------------------------------------\")\n",
        "    print (\"##\",\"  Estimate   |   Std.Error | t Values  |  P-value\")\n",
        "    coef = np.append(list(model.coefficients),model.intercept)\n",
        "    Summary=model.summary\n",
        "\n",
        "    for i in range(len(Summary.pValues)):\n",
        "        print (\"##\",'{:10.6f}'.format(coef[i]),\\\n",
        "        '{:10.6f}'.format(Summary.coefficientStandardErrors[i]),\\\n",
        "        '{:8.3f}'.format(Summary.tValues[i]),\\\n",
        "        '{:10.6f}'.format(Summary.pValues[i]))\n",
        "\n",
        "    print (\"##\",'---')\n",
        "    print (\"##\",\"Mean squared error: % .6f\" \\\n",
        "           % Summary.meanSquaredError, \", RMSE: % .6f\" \\\n",
        "           % Summary.rootMeanSquaredError )\n",
        "    print (\"##\",\"Multiple R-squared: %f\" % Summary.r2, \", \\\n",
        "            Total iterations: %i\"% Summary.totalIterations)"
      ],
      "execution_count": null,
      "outputs": []
    },
    {
      "cell_type": "code",
      "metadata": {
        "colab": {
          "base_uri": "https://localhost:8080/"
        },
        "id": "DMR-YL938_23",
        "outputId": "1030b9bf-302b-41ab-e7b9-42616f5a6ac8"
      },
      "source": [
        "modelsummary(Linear_Model)"
      ],
      "execution_count": null,
      "outputs": [
        {
          "output_type": "stream",
          "text": [
            "Note: the last rows are the information for Intercept\n",
            "## -------------------------------------------------\n",
            "##   Estimate   |   Std.Error | t Values  |  P-value\n",
            "##  -0.293458   0.000557 -526.429   0.000000\n",
            "##   0.117629   0.000428  274.640   0.000000\n",
            "##  -0.009889   0.000371  -26.661   0.000000\n",
            "##   0.051093   0.000338  151.115   0.000000\n",
            "##   0.012596   0.000475   26.508   0.000000\n",
            "##   0.000638   0.000386    1.651   0.098731\n",
            "##  -0.019506   0.000902  -21.615   0.000000\n",
            "##   0.054697   0.000637   85.825   0.000000\n",
            "##  -0.070098   0.000561 -125.001   0.000000\n",
            "##  -0.004243   0.000269  -15.745   0.000000\n",
            "##  -0.005091   0.000464  -10.961   0.000000\n",
            "##   0.026574   0.000880   30.210   0.000000\n",
            "##  -0.034786   0.000835  -41.652   0.000000\n",
            "##   0.005724   0.000385   14.866   0.000000\n",
            "##   0.126482   0.000280  451.619   0.000000\n",
            "##   0.091511   0.000307  298.432   0.000000\n",
            "##   0.006491   0.000270   24.052   0.000000\n",
            "##  -0.015738   0.000255  -61.824   0.000000\n",
            "##  -0.001969   0.000278   -7.074   0.000000\n",
            "##  -0.001121   0.000254   -4.404   0.000011\n",
            "##   0.040672   0.000143  284.028   0.000000\n",
            "## ---\n",
            "## Mean squared error:  0.000837 , RMSE:  0.028923\n",
            "## Multiple R-squared: 0.552994 ,             Total iterations: 0\n"
          ],
          "name": "stdout"
        }
      ]
    },
    {
      "cell_type": "code",
      "metadata": {
        "colab": {
          "base_uri": "https://localhost:8080/"
        },
        "id": "ZulQ62IhW0A-",
        "outputId": "3c764c56-1cb8-4ab4-f21f-d030a4e695ca"
      },
      "source": [
        "from pyspark.ml.evaluation import RegressionEvaluator\n",
        "# Select (prediction, true label) and compute test error\n",
        "evaluator = RegressionEvaluator(labelCol=\"scaled_FINCP\",\n",
        "                                predictionCol=\"prediction\",\n",
        "                                metricName=\"rmse\")\n",
        "evaluator1 = RegressionEvaluator(labelCol=\"scaled_FINCP\",\n",
        "                                predictionCol=\"prediction\",\n",
        "                                metricName=\"mse\")\n",
        "rmse = evaluator.evaluate(predictions)\n",
        "mse = evaluator1.evaluate(predictions)\n",
        "print(\"Root Mean Squared Error (RMSE) on test data = %g\" % rmse)\n",
        "print(\"Mean Squared Error (MSE) on test data = %g\" % mse)"
      ],
      "execution_count": null,
      "outputs": [
        {
          "output_type": "stream",
          "text": [
            "Root Mean Squared Error (RMSE) on test data = 0.0287433\n",
            "Mean Squared Error (MSE) on test data = 0.000826176\n"
          ],
          "name": "stdout"
        }
      ]
    },
    {
      "cell_type": "code",
      "metadata": {
        "colab": {
          "base_uri": "https://localhost:8080/"
        },
        "id": "A3aRo9e7W49C",
        "outputId": "5e612dd2-7bb8-4c6f-b52e-25b1b3816963"
      },
      "source": [
        "y_true = predictions.select(\"scaled_FINCP\").toPandas()\n",
        "y_pred = predictions.select(\"prediction\").toPandas()\n",
        "\n",
        "import sklearn.metrics\n",
        "r2_score = sklearn.metrics.r2_score(y_true, y_pred)\n",
        "print('r2_score: {0}'.format(r2_score))"
      ],
      "execution_count": null,
      "outputs": [
        {
          "output_type": "stream",
          "text": [
            "r2_score: 0.5479054201903762\n"
          ],
          "name": "stdout"
        }
      ]
    },
    {
      "cell_type": "code",
      "metadata": {
        "id": "79dYvbya5OAg"
      },
      "source": [
        "lr = LinearRegression(maxIter=10, regParam=0.01, elasticNetParam=0.2,featuresCol = 'scaled_PCA_Features', labelCol = 'scaled_FINCP')\n",
        "lrModel = lr.fit(data_input_train)\n",
        "pred= lrModel.transform(data_input_test)\n",
        "pred1= lrModel.transform(data_input_train)"
      ],
      "execution_count": null,
      "outputs": []
    },
    {
      "cell_type": "code",
      "metadata": {
        "colab": {
          "base_uri": "https://localhost:8080/"
        },
        "id": "NJOG9jZRDWNz",
        "outputId": "9a717db9-7f10-4451-e156-de1a71aabae2"
      },
      "source": [
        "eva1 = RegressionEvaluator(labelCol=\"scaled_FINCP\",\n",
        "                                predictionCol=\"prediction\",\n",
        "                                metricName=\"rmse\")\n",
        "eva2 = RegressionEvaluator(labelCol=\"scaled_FINCP\",\n",
        "                                predictionCol=\"prediction\",\n",
        "                                metricName=\"mse\")\n",
        "eva3 = RegressionEvaluator(labelCol=\"scaled_FINCP\",\n",
        "                                predictionCol=\"prediction\",\n",
        "                                metricName=\"r2\")\n",
        "rmse = eva1.evaluate(pred1)\n",
        "mse = eva2.evaluate(pred1)\n",
        "r2 = eva3.evaluate(pred1)\n",
        "print(\"Root Mean Squared Error (RMSE) on train data = %g\" % rmse)\n",
        "print(\"Mean Squared Error (MSE) on train data = %g\" % mse)\n",
        "print(\"R2 on train data = %g\" % r2)\n",
        "testrmse = eva1.evaluate(pred)\n",
        "testmse = eva2.evaluate(pred)\n",
        "testr2 = eva3.evaluate(pred)\n",
        "print(\"Root Mean Squared Error (RMSE) on test data = %g\" % testrmse)\n",
        "print(\"Mean Squared Error (MSE) on test data = %g\" % testmse)\n",
        "print(\"R2 on test data = %g\" % testr2)"
      ],
      "execution_count": null,
      "outputs": [
        {
          "output_type": "stream",
          "text": [
            "Root Mean Squared Error (RMSE) on train data = 0.0305368\n",
            "Mean Squared Error (MSE) on train data = 0.000932494\n",
            "R2 on train data = 0.50173\n",
            "Root Mean Squared Error (RMSE) on test data = 0.0302671\n",
            "Mean Squared Error (MSE) on test data = 0.000916099\n",
            "R2 on test data = 0.498698\n"
          ],
          "name": "stdout"
        }
      ]
    }
  ]
}