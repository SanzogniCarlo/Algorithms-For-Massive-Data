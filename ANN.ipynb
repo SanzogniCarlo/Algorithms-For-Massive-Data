{
  "nbformat": 4,
  "nbformat_minor": 0,
  "metadata": {
    "colab": {
      "name": "ANN.ipynb",
      "provenance": [],
      "collapsed_sections": [],
      "authorship_tag": "ABX9TyNqmn4903ZaIsXCEoh9LZa8",
      "include_colab_link": true
    },
    "kernelspec": {
      "name": "python3",
      "display_name": "Python 3"
    },
    "language_info": {
      "name": "python"
    }
  },
  "cells": [
    {
      "cell_type": "markdown",
      "metadata": {
        "id": "view-in-github",
        "colab_type": "text"
      },
      "source": [
        "<a href=\"https://colab.research.google.com/github/SanzogniCarlo/Algorithms-For-Massive-Data/blob/main/ANN.ipynb\" target=\"_parent\"><img src=\"https://colab.research.google.com/assets/colab-badge.svg\" alt=\"Open In Colab\"/></a>"
      ]
    },
    {
      "cell_type": "code",
      "metadata": {
        "colab": {
          "resources": {
            "http://localhost:8080/nbextensions/google.colab/files.js": {
              "data": "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",
              "ok": true,
              "headers": [
                [
                  "content-type",
                  "application/javascript"
                ]
              ],
              "status": 200,
              "status_text": ""
            }
          },
          "base_uri": "https://localhost:8080/",
          "height": 39
        },
        "id": "f6MHLIJgJBBN",
        "outputId": "b7eabf56-21dd-4e68-ec9c-32dcd8508efc"
      },
      "source": [
        "###load kaggle api file\n",
        "from google.colab import files\n",
        "\n",
        "uploaded = files.upload()"
      ],
      "execution_count": null,
      "outputs": [
        {
          "output_type": "display_data",
          "data": {
            "text/html": [
              "\n",
              "     <input type=\"file\" id=\"files-b909b6da-3379-4b2f-9e64-25ee84530772\" name=\"files[]\" multiple disabled\n",
              "        style=\"border:none\" />\n",
              "     <output id=\"result-b909b6da-3379-4b2f-9e64-25ee84530772\">\n",
              "      Upload widget is only available when the cell has been executed in the\n",
              "      current browser session. Please rerun this cell to enable.\n",
              "      </output>\n",
              "      <script src=\"/nbextensions/google.colab/files.js\"></script> "
            ],
            "text/plain": [
              "<IPython.core.display.HTML object>"
            ]
          },
          "metadata": {
            "tags": []
          }
        }
      ]
    },
    {
      "cell_type": "code",
      "metadata": {
        "id": "8Ypa22vLJC6t"
      },
      "source": [
        "!mkdir ~/.kaggle/\n",
        "!cp kaggle.json ~/.kaggle/\n",
        "!chmod 600 ~/.kaggle/kaggle.json"
      ],
      "execution_count": null,
      "outputs": []
    },
    {
      "cell_type": "code",
      "metadata": {
        "id": "OB8uK0TUIyo3"
      },
      "source": [
        "from kaggle.api.kaggle_api_extended import KaggleApi\n",
        "api = KaggleApi()\n",
        "api.authenticate()"
      ],
      "execution_count": null,
      "outputs": []
    },
    {
      "cell_type": "code",
      "metadata": {
        "colab": {
          "base_uri": "https://localhost:8080/"
        },
        "id": "jGWjbgu3I4MU",
        "outputId": "67982114-361e-4f51-9df5-328806d8828e"
      },
      "source": [
        "###download dataset from kaggle\n",
        "dataset=api.dataset_download_file(dataset='census/2013-american-community-survey', file_name='ss13husa.csv',quiet=False,force=True)\n",
        "dataset=api.dataset_download_file(dataset='census/2013-american-community-survey', file_name='ss13husb.csv',quiet=False,force=True)\n",
        "!unzip ss13husa.csv\n",
        "!unzip ss13husb.csv"
      ],
      "execution_count": null,
      "outputs": [
        {
          "output_type": "stream",
          "text": [
            "  2%|▏         | 3.00M/134M [00:00<00:04, 27.6MB/s]"
          ],
          "name": "stderr"
        },
        {
          "output_type": "stream",
          "text": [
            "Downloading ss13husa.csv.zip to /content\n"
          ],
          "name": "stdout"
        },
        {
          "output_type": "stream",
          "text": [
            "100%|██████████| 134M/134M [00:02<00:00, 50.2MB/s]\n"
          ],
          "name": "stderr"
        },
        {
          "output_type": "stream",
          "text": [
            "\n"
          ],
          "name": "stdout"
        },
        {
          "output_type": "stream",
          "text": [
            "  6%|▌         | 8.00M/128M [00:00<00:01, 81.9MB/s]"
          ],
          "name": "stderr"
        },
        {
          "output_type": "stream",
          "text": [
            "Downloading ss13husb.csv.zip to /content\n"
          ],
          "name": "stdout"
        },
        {
          "output_type": "stream",
          "text": [
            "100%|██████████| 128M/128M [00:03<00:00, 41.3MB/s]\n"
          ],
          "name": "stderr"
        },
        {
          "output_type": "stream",
          "text": [
            "\n",
            "Archive:  ss13husa.csv.zip\n",
            "  inflating: ss13husa.csv            \n",
            "Archive:  ss13husb.csv.zip\n",
            "  inflating: ss13husb.csv            \n"
          ],
          "name": "stdout"
        }
      ]
    },
    {
      "cell_type": "code",
      "metadata": {
        "id": "1z0pFE0DM8Wu"
      },
      "source": [
        "import pandas as pd\n",
        "import numpy\n",
        "import matplotlib.pyplot as plt\n",
        "from sklearn.preprocessing import StandardScaler\n",
        "from sklearn.decomposition import PCA\n",
        "from sklearn.model_selection import train_test_split\n",
        "from sklearn.preprocessing import MinMaxScaler\n",
        "from sklearn.metrics import mean_absolute_error\n",
        "from sklearn.metrics import mean_squared_error"
      ],
      "execution_count": null,
      "outputs": []
    },
    {
      "cell_type": "code",
      "metadata": {
        "id": "YnqEFAjiM_zU"
      },
      "source": [
        "df1= pd.read_csv('ss13husa.csv',)\n",
        "df2= pd.read_csv('ss13husb.csv')\n",
        "df=pd.merge(df1, df2, how='outer')"
      ],
      "execution_count": null,
      "outputs": []
    },
    {
      "cell_type": "code",
      "metadata": {
        "id": "9eoqnbUON2uu"
      },
      "source": [
        "df=df.iloc[:,4:151]###dropping wgtp\n",
        "df=df.drop(['ST','HINCP','ADJHSG','ADJINC'], axis=1)##dropping adjustment factors and other objective variables"
      ],
      "execution_count": null,
      "outputs": []
    },
    {
      "cell_type": "code",
      "metadata": {
        "id": "tX0uWWPjY2ND"
      },
      "source": [
        "df=df.dropna(axis=0, subset=['FINCP']).reset_index()#drop raw with target variable null\n",
        "df=df.dropna(axis=1, how='all')#drop columns all null\n",
        "df = df.fillna(0)#fill remaining null values with 0s"
      ],
      "execution_count": null,
      "outputs": []
    },
    {
      "cell_type": "code",
      "metadata": {
        "id": "srQoI1jbaWVA"
      },
      "source": [
        "features = df.drop('FINCP',axis=1)\n",
        "x =features.values# Separating out the features\n",
        "y = df['FINCP'].values# Separating out the target\n",
        "x = StandardScaler().fit_transform(x)# Standardizing the features\n",
        "dfs=pd.DataFrame(data=x)"
      ],
      "execution_count": null,
      "outputs": []
    },
    {
      "cell_type": "code",
      "metadata": {
        "id": "4bHvH7yrgH4J"
      },
      "source": [
        "pca = PCA(n_components=20)#set number of components\n",
        "principalComponents = pca.fit_transform(x)#fit the PCA\n",
        "\n",
        "dfPCA = pd.DataFrame(data = principalComponents)\n",
        "#dfPCA"
      ],
      "execution_count": null,
      "outputs": []
    },
    {
      "cell_type": "code",
      "metadata": {
        "colab": {
          "base_uri": "https://localhost:8080/",
          "height": 422
        },
        "id": "0lrWmVdwTmIA",
        "outputId": "4dd8e773-3be1-41aa-cfd7-9f51f1188506"
      },
      "source": [
        "dfinal = pd.concat([dfPCA, df['FINCP']],axis=1)\n",
        "dfinal"
      ],
      "execution_count": null,
      "outputs": [
        {
          "output_type": "execute_result",
          "data": {
            "text/html": [
              "<div>\n",
              "<style scoped>\n",
              "    .dataframe tbody tr th:only-of-type {\n",
              "        vertical-align: middle;\n",
              "    }\n",
              "\n",
              "    .dataframe tbody tr th {\n",
              "        vertical-align: top;\n",
              "    }\n",
              "\n",
              "    .dataframe thead th {\n",
              "        text-align: right;\n",
              "    }\n",
              "</style>\n",
              "<table border=\"1\" class=\"dataframe\">\n",
              "  <thead>\n",
              "    <tr style=\"text-align: right;\">\n",
              "      <th></th>\n",
              "      <th>0</th>\n",
              "      <th>1</th>\n",
              "      <th>2</th>\n",
              "      <th>3</th>\n",
              "      <th>4</th>\n",
              "      <th>5</th>\n",
              "      <th>6</th>\n",
              "      <th>7</th>\n",
              "      <th>8</th>\n",
              "      <th>9</th>\n",
              "      <th>10</th>\n",
              "      <th>11</th>\n",
              "      <th>12</th>\n",
              "      <th>13</th>\n",
              "      <th>14</th>\n",
              "      <th>15</th>\n",
              "      <th>16</th>\n",
              "      <th>17</th>\n",
              "      <th>18</th>\n",
              "      <th>19</th>\n",
              "      <th>FINCP</th>\n",
              "    </tr>\n",
              "  </thead>\n",
              "  <tbody>\n",
              "    <tr>\n",
              "      <th>0</th>\n",
              "      <td>-1.364719</td>\n",
              "      <td>0.162359</td>\n",
              "      <td>-1.218636</td>\n",
              "      <td>-1.085856</td>\n",
              "      <td>-0.720737</td>\n",
              "      <td>0.199410</td>\n",
              "      <td>0.554713</td>\n",
              "      <td>-0.064107</td>\n",
              "      <td>3.720604</td>\n",
              "      <td>0.027450</td>\n",
              "      <td>-0.215377</td>\n",
              "      <td>0.955176</td>\n",
              "      <td>-0.406632</td>\n",
              "      <td>-2.970344</td>\n",
              "      <td>0.054521</td>\n",
              "      <td>-0.922683</td>\n",
              "      <td>0.172016</td>\n",
              "      <td>0.452520</td>\n",
              "      <td>-0.054526</td>\n",
              "      <td>1.219605</td>\n",
              "      <td>151000.0</td>\n",
              "    </tr>\n",
              "    <tr>\n",
              "      <th>1</th>\n",
              "      <td>5.936145</td>\n",
              "      <td>-1.884891</td>\n",
              "      <td>-2.318114</td>\n",
              "      <td>4.383122</td>\n",
              "      <td>2.018517</td>\n",
              "      <td>-1.395294</td>\n",
              "      <td>-1.538207</td>\n",
              "      <td>3.545066</td>\n",
              "      <td>1.656559</td>\n",
              "      <td>0.419367</td>\n",
              "      <td>-0.336327</td>\n",
              "      <td>-3.451492</td>\n",
              "      <td>-2.269772</td>\n",
              "      <td>2.040297</td>\n",
              "      <td>3.949621</td>\n",
              "      <td>4.826483</td>\n",
              "      <td>0.190947</td>\n",
              "      <td>0.800753</td>\n",
              "      <td>-6.095926</td>\n",
              "      <td>0.908280</td>\n",
              "      <td>11400.0</td>\n",
              "    </tr>\n",
              "    <tr>\n",
              "      <th>2</th>\n",
              "      <td>2.578135</td>\n",
              "      <td>12.638984</td>\n",
              "      <td>2.555071</td>\n",
              "      <td>0.919779</td>\n",
              "      <td>-14.225956</td>\n",
              "      <td>3.473364</td>\n",
              "      <td>-9.176608</td>\n",
              "      <td>1.820436</td>\n",
              "      <td>-3.060631</td>\n",
              "      <td>0.130002</td>\n",
              "      <td>-3.984922</td>\n",
              "      <td>-2.480572</td>\n",
              "      <td>-0.041602</td>\n",
              "      <td>-5.068938</td>\n",
              "      <td>2.534582</td>\n",
              "      <td>-3.485144</td>\n",
              "      <td>1.842076</td>\n",
              "      <td>-6.227674</td>\n",
              "      <td>-2.243943</td>\n",
              "      <td>-3.606027</td>\n",
              "      <td>136000.0</td>\n",
              "    </tr>\n",
              "    <tr>\n",
              "      <th>3</th>\n",
              "      <td>-0.939957</td>\n",
              "      <td>-0.406730</td>\n",
              "      <td>-3.125263</td>\n",
              "      <td>-3.099964</td>\n",
              "      <td>-1.006819</td>\n",
              "      <td>0.421665</td>\n",
              "      <td>-0.173115</td>\n",
              "      <td>2.169624</td>\n",
              "      <td>0.791913</td>\n",
              "      <td>-1.273753</td>\n",
              "      <td>-0.625057</td>\n",
              "      <td>0.121397</td>\n",
              "      <td>1.322592</td>\n",
              "      <td>1.346886</td>\n",
              "      <td>0.349242</td>\n",
              "      <td>0.223979</td>\n",
              "      <td>1.309848</td>\n",
              "      <td>-0.387749</td>\n",
              "      <td>0.382666</td>\n",
              "      <td>0.559673</td>\n",
              "      <td>52600.0</td>\n",
              "    </tr>\n",
              "    <tr>\n",
              "      <th>4</th>\n",
              "      <td>-3.157383</td>\n",
              "      <td>1.443383</td>\n",
              "      <td>-1.809193</td>\n",
              "      <td>-0.528366</td>\n",
              "      <td>-0.618987</td>\n",
              "      <td>0.104247</td>\n",
              "      <td>0.590160</td>\n",
              "      <td>-0.871279</td>\n",
              "      <td>1.408183</td>\n",
              "      <td>1.225438</td>\n",
              "      <td>1.240272</td>\n",
              "      <td>-0.812390</td>\n",
              "      <td>-2.083282</td>\n",
              "      <td>-1.087764</td>\n",
              "      <td>-0.082135</td>\n",
              "      <td>-0.147780</td>\n",
              "      <td>-0.664852</td>\n",
              "      <td>-0.897876</td>\n",
              "      <td>-0.256362</td>\n",
              "      <td>-0.328976</td>\n",
              "      <td>81600.0</td>\n",
              "    </tr>\n",
              "    <tr>\n",
              "      <th>...</th>\n",
              "      <td>...</td>\n",
              "      <td>...</td>\n",
              "      <td>...</td>\n",
              "      <td>...</td>\n",
              "      <td>...</td>\n",
              "      <td>...</td>\n",
              "      <td>...</td>\n",
              "      <td>...</td>\n",
              "      <td>...</td>\n",
              "      <td>...</td>\n",
              "      <td>...</td>\n",
              "      <td>...</td>\n",
              "      <td>...</td>\n",
              "      <td>...</td>\n",
              "      <td>...</td>\n",
              "      <td>...</td>\n",
              "      <td>...</td>\n",
              "      <td>...</td>\n",
              "      <td>...</td>\n",
              "      <td>...</td>\n",
              "      <td>...</td>\n",
              "    </tr>\n",
              "    <tr>\n",
              "      <th>812463</th>\n",
              "      <td>2.255156</td>\n",
              "      <td>-3.698867</td>\n",
              "      <td>4.800880</td>\n",
              "      <td>0.488739</td>\n",
              "      <td>-0.618309</td>\n",
              "      <td>0.005424</td>\n",
              "      <td>-0.405252</td>\n",
              "      <td>-0.710787</td>\n",
              "      <td>1.573450</td>\n",
              "      <td>-1.749804</td>\n",
              "      <td>-0.732162</td>\n",
              "      <td>-0.074795</td>\n",
              "      <td>1.107100</td>\n",
              "      <td>0.389373</td>\n",
              "      <td>-0.944043</td>\n",
              "      <td>0.206205</td>\n",
              "      <td>-1.423238</td>\n",
              "      <td>-1.112694</td>\n",
              "      <td>0.472471</td>\n",
              "      <td>0.123299</td>\n",
              "      <td>30000.0</td>\n",
              "    </tr>\n",
              "    <tr>\n",
              "      <th>812464</th>\n",
              "      <td>1.902353</td>\n",
              "      <td>-3.409294</td>\n",
              "      <td>4.180713</td>\n",
              "      <td>-0.808947</td>\n",
              "      <td>-1.283998</td>\n",
              "      <td>0.321303</td>\n",
              "      <td>-0.055427</td>\n",
              "      <td>-1.843681</td>\n",
              "      <td>2.211413</td>\n",
              "      <td>-0.721458</td>\n",
              "      <td>-0.343744</td>\n",
              "      <td>-1.417437</td>\n",
              "      <td>0.786776</td>\n",
              "      <td>-0.541794</td>\n",
              "      <td>-0.397236</td>\n",
              "      <td>1.673684</td>\n",
              "      <td>0.854681</td>\n",
              "      <td>-1.190929</td>\n",
              "      <td>0.470028</td>\n",
              "      <td>0.332671</td>\n",
              "      <td>63000.0</td>\n",
              "    </tr>\n",
              "    <tr>\n",
              "      <th>812465</th>\n",
              "      <td>-0.558363</td>\n",
              "      <td>0.387206</td>\n",
              "      <td>-2.203753</td>\n",
              "      <td>-1.630456</td>\n",
              "      <td>-0.735804</td>\n",
              "      <td>0.183010</td>\n",
              "      <td>1.035093</td>\n",
              "      <td>-0.615407</td>\n",
              "      <td>2.719490</td>\n",
              "      <td>-0.609539</td>\n",
              "      <td>0.378898</td>\n",
              "      <td>2.112145</td>\n",
              "      <td>-1.304588</td>\n",
              "      <td>-1.583747</td>\n",
              "      <td>-1.074725</td>\n",
              "      <td>-0.625779</td>\n",
              "      <td>-0.650428</td>\n",
              "      <td>-0.137554</td>\n",
              "      <td>-0.597620</td>\n",
              "      <td>-0.040149</td>\n",
              "      <td>39300.0</td>\n",
              "    </tr>\n",
              "    <tr>\n",
              "      <th>812466</th>\n",
              "      <td>-1.776992</td>\n",
              "      <td>-1.212249</td>\n",
              "      <td>2.705387</td>\n",
              "      <td>1.111815</td>\n",
              "      <td>-0.176853</td>\n",
              "      <td>-0.031319</td>\n",
              "      <td>-0.940911</td>\n",
              "      <td>0.084385</td>\n",
              "      <td>-0.650428</td>\n",
              "      <td>-2.437314</td>\n",
              "      <td>-0.708475</td>\n",
              "      <td>1.076402</td>\n",
              "      <td>-0.468126</td>\n",
              "      <td>1.284068</td>\n",
              "      <td>-1.777820</td>\n",
              "      <td>-0.118765</td>\n",
              "      <td>-0.333688</td>\n",
              "      <td>-0.246623</td>\n",
              "      <td>-0.779666</td>\n",
              "      <td>0.296016</td>\n",
              "      <td>39700.0</td>\n",
              "    </tr>\n",
              "    <tr>\n",
              "      <th>812467</th>\n",
              "      <td>2.621765</td>\n",
              "      <td>-3.726941</td>\n",
              "      <td>4.371895</td>\n",
              "      <td>-0.774264</td>\n",
              "      <td>-1.020453</td>\n",
              "      <td>0.944160</td>\n",
              "      <td>0.255400</td>\n",
              "      <td>-1.912088</td>\n",
              "      <td>1.450709</td>\n",
              "      <td>-1.985895</td>\n",
              "      <td>-0.362807</td>\n",
              "      <td>-0.586562</td>\n",
              "      <td>0.060004</td>\n",
              "      <td>0.881742</td>\n",
              "      <td>-0.890684</td>\n",
              "      <td>1.481918</td>\n",
              "      <td>0.128288</td>\n",
              "      <td>-0.711111</td>\n",
              "      <td>-1.948977</td>\n",
              "      <td>-0.345691</td>\n",
              "      <td>110600.0</td>\n",
              "    </tr>\n",
              "  </tbody>\n",
              "</table>\n",
              "<p>812468 rows × 21 columns</p>\n",
              "</div>"
            ],
            "text/plain": [
              "               0          1         2  ...        18        19     FINCP\n",
              "0      -1.364719   0.162359 -1.218636  ... -0.054526  1.219605  151000.0\n",
              "1       5.936145  -1.884891 -2.318114  ... -6.095926  0.908280   11400.0\n",
              "2       2.578135  12.638984  2.555071  ... -2.243943 -3.606027  136000.0\n",
              "3      -0.939957  -0.406730 -3.125263  ...  0.382666  0.559673   52600.0\n",
              "4      -3.157383   1.443383 -1.809193  ... -0.256362 -0.328976   81600.0\n",
              "...          ...        ...       ...  ...       ...       ...       ...\n",
              "812463  2.255156  -3.698867  4.800880  ...  0.472471  0.123299   30000.0\n",
              "812464  1.902353  -3.409294  4.180713  ...  0.470028  0.332671   63000.0\n",
              "812465 -0.558363   0.387206 -2.203753  ... -0.597620 -0.040149   39300.0\n",
              "812466 -1.776992  -1.212249  2.705387  ... -0.779666  0.296016   39700.0\n",
              "812467  2.621765  -3.726941  4.371895  ... -1.948977 -0.345691  110600.0\n",
              "\n",
              "[812468 rows x 21 columns]"
            ]
          },
          "metadata": {
            "tags": []
          },
          "execution_count": 11
        }
      ]
    },
    {
      "cell_type": "code",
      "metadata": {
        "colab": {
          "base_uri": "https://localhost:8080/"
        },
        "id": "orl5ecHTkK0t",
        "outputId": "654668b7-879f-4e50-c606-1d79ab43cfa2"
      },
      "source": [
        "pca.explained_variance_ratio_"
      ],
      "execution_count": null,
      "outputs": [
        {
          "output_type": "execute_result",
          "data": {
            "text/plain": [
              "array([0.09564553, 0.09437593, 0.06702964, 0.05055826, 0.04097488,\n",
              "       0.0376618 , 0.03312008, 0.02799707, 0.02397417, 0.01938291,\n",
              "       0.01745578, 0.0158183 , 0.01470025, 0.013016  , 0.01238823,\n",
              "       0.01187811, 0.01143486, 0.01118061, 0.01048245, 0.01014975])"
            ]
          },
          "metadata": {
            "tags": []
          },
          "execution_count": 12
        }
      ]
    },
    {
      "cell_type": "code",
      "metadata": {
        "id": "ijnTC0LuqDZj"
      },
      "source": [
        "# Split dataset\n",
        "train, test, trainTarget, testTarget = train_test_split( dfPCA,df['FINCP'] , test_size=1/7.0, random_state=0)"
      ],
      "execution_count": null,
      "outputs": []
    },
    {
      "cell_type": "code",
      "metadata": {
        "id": "kTuWHeC7eUXM"
      },
      "source": [
        "scaler=MinMaxScaler()\n",
        "scalertarget=MinMaxScaler()\n",
        "train_scaled=scaler.fit_transform(train)#fit and scale the train\n",
        "test_scaled=scaler.transform(test)#scaled the target on the train\n",
        "\n",
        "trainTarget=pd.DataFrame(trainTarget)\n",
        "testTarget=pd.DataFrame(testTarget)\n",
        "\n",
        "trainTarget_scaled=scalertarget.fit_transform(trainTarget)#fit and scale the target train\n",
        "testTarget_scaled=scalertarget.transform(testTarget)#scale the target test on the train"
      ],
      "execution_count": null,
      "outputs": []
    },
    {
      "cell_type": "code",
      "metadata": {
        "colab": {
          "base_uri": "https://localhost:8080/",
          "height": 422
        },
        "id": "yG3s9XLJioF3",
        "outputId": "2cbd8123-ff52-4262-9825-282a7db62420"
      },
      "source": [
        "#scalefinal = pd.concat([pd.DataFrame(train_scaled), pd.DataFrame(trainTarget_scaled)],axis=1)\n",
        "#scalefinal"
      ],
      "execution_count": null,
      "outputs": [
        {
          "output_type": "execute_result",
          "data": {
            "text/html": [
              "<div>\n",
              "<style scoped>\n",
              "    .dataframe tbody tr th:only-of-type {\n",
              "        vertical-align: middle;\n",
              "    }\n",
              "\n",
              "    .dataframe tbody tr th {\n",
              "        vertical-align: top;\n",
              "    }\n",
              "\n",
              "    .dataframe thead th {\n",
              "        text-align: right;\n",
              "    }\n",
              "</style>\n",
              "<table border=\"1\" class=\"dataframe\">\n",
              "  <thead>\n",
              "    <tr style=\"text-align: right;\">\n",
              "      <th></th>\n",
              "      <th>0</th>\n",
              "      <th>1</th>\n",
              "      <th>2</th>\n",
              "      <th>3</th>\n",
              "      <th>4</th>\n",
              "      <th>5</th>\n",
              "      <th>6</th>\n",
              "      <th>7</th>\n",
              "      <th>8</th>\n",
              "      <th>9</th>\n",
              "      <th>10</th>\n",
              "      <th>11</th>\n",
              "      <th>12</th>\n",
              "      <th>13</th>\n",
              "      <th>14</th>\n",
              "      <th>15</th>\n",
              "      <th>16</th>\n",
              "      <th>17</th>\n",
              "      <th>18</th>\n",
              "      <th>19</th>\n",
              "      <th>0</th>\n",
              "    </tr>\n",
              "  </thead>\n",
              "  <tbody>\n",
              "    <tr>\n",
              "      <th>0</th>\n",
              "      <td>0.318647</td>\n",
              "      <td>0.127810</td>\n",
              "      <td>0.122800</td>\n",
              "      <td>0.462004</td>\n",
              "      <td>0.520904</td>\n",
              "      <td>0.043927</td>\n",
              "      <td>0.420530</td>\n",
              "      <td>0.505821</td>\n",
              "      <td>0.319425</td>\n",
              "      <td>0.390586</td>\n",
              "      <td>0.465574</td>\n",
              "      <td>0.476714</td>\n",
              "      <td>0.551797</td>\n",
              "      <td>0.354788</td>\n",
              "      <td>0.433908</td>\n",
              "      <td>0.440497</td>\n",
              "      <td>0.509796</td>\n",
              "      <td>0.459715</td>\n",
              "      <td>0.443230</td>\n",
              "      <td>0.470467</td>\n",
              "      <td>0.010035</td>\n",
              "    </tr>\n",
              "    <tr>\n",
              "      <th>1</th>\n",
              "      <td>0.416204</td>\n",
              "      <td>0.193979</td>\n",
              "      <td>0.184739</td>\n",
              "      <td>0.408267</td>\n",
              "      <td>0.575725</td>\n",
              "      <td>0.033511</td>\n",
              "      <td>0.444635</td>\n",
              "      <td>0.315442</td>\n",
              "      <td>0.199354</td>\n",
              "      <td>0.427291</td>\n",
              "      <td>0.364938</td>\n",
              "      <td>0.660122</td>\n",
              "      <td>0.314927</td>\n",
              "      <td>0.440533</td>\n",
              "      <td>0.489495</td>\n",
              "      <td>0.459857</td>\n",
              "      <td>0.616496</td>\n",
              "      <td>0.684160</td>\n",
              "      <td>0.260828</td>\n",
              "      <td>0.479017</td>\n",
              "      <td>0.022248</td>\n",
              "    </tr>\n",
              "    <tr>\n",
              "      <th>2</th>\n",
              "      <td>0.295659</td>\n",
              "      <td>0.076039</td>\n",
              "      <td>0.552322</td>\n",
              "      <td>0.381608</td>\n",
              "      <td>0.465233</td>\n",
              "      <td>0.062743</td>\n",
              "      <td>0.452209</td>\n",
              "      <td>0.373344</td>\n",
              "      <td>0.583054</td>\n",
              "      <td>0.302988</td>\n",
              "      <td>0.415557</td>\n",
              "      <td>0.426800</td>\n",
              "      <td>0.426048</td>\n",
              "      <td>0.377929</td>\n",
              "      <td>0.403639</td>\n",
              "      <td>0.482716</td>\n",
              "      <td>0.482456</td>\n",
              "      <td>0.441203</td>\n",
              "      <td>0.451073</td>\n",
              "      <td>0.477312</td>\n",
              "      <td>0.081629</td>\n",
              "    </tr>\n",
              "    <tr>\n",
              "      <th>3</th>\n",
              "      <td>0.321404</td>\n",
              "      <td>0.147669</td>\n",
              "      <td>0.105922</td>\n",
              "      <td>0.427728</td>\n",
              "      <td>0.506348</td>\n",
              "      <td>0.046600</td>\n",
              "      <td>0.459915</td>\n",
              "      <td>0.365112</td>\n",
              "      <td>0.561216</td>\n",
              "      <td>0.326720</td>\n",
              "      <td>0.427912</td>\n",
              "      <td>0.544563</td>\n",
              "      <td>0.427141</td>\n",
              "      <td>0.373428</td>\n",
              "      <td>0.391449</td>\n",
              "      <td>0.438666</td>\n",
              "      <td>0.361695</td>\n",
              "      <td>0.456469</td>\n",
              "      <td>0.392048</td>\n",
              "      <td>0.336083</td>\n",
              "      <td>0.034653</td>\n",
              "    </tr>\n",
              "    <tr>\n",
              "      <th>4</th>\n",
              "      <td>0.287103</td>\n",
              "      <td>0.117478</td>\n",
              "      <td>0.425341</td>\n",
              "      <td>0.370918</td>\n",
              "      <td>0.479473</td>\n",
              "      <td>0.058198</td>\n",
              "      <td>0.487073</td>\n",
              "      <td>0.490255</td>\n",
              "      <td>0.515020</td>\n",
              "      <td>0.240778</td>\n",
              "      <td>0.493052</td>\n",
              "      <td>0.536633</td>\n",
              "      <td>0.398113</td>\n",
              "      <td>0.461441</td>\n",
              "      <td>0.399337</td>\n",
              "      <td>0.517061</td>\n",
              "      <td>0.512862</td>\n",
              "      <td>0.467171</td>\n",
              "      <td>0.366153</td>\n",
              "      <td>0.369768</td>\n",
              "      <td>0.084274</td>\n",
              "    </tr>\n",
              "    <tr>\n",
              "      <th>...</th>\n",
              "      <td>...</td>\n",
              "      <td>...</td>\n",
              "      <td>...</td>\n",
              "      <td>...</td>\n",
              "      <td>...</td>\n",
              "      <td>...</td>\n",
              "      <td>...</td>\n",
              "      <td>...</td>\n",
              "      <td>...</td>\n",
              "      <td>...</td>\n",
              "      <td>...</td>\n",
              "      <td>...</td>\n",
              "      <td>...</td>\n",
              "      <td>...</td>\n",
              "      <td>...</td>\n",
              "      <td>...</td>\n",
              "      <td>...</td>\n",
              "      <td>...</td>\n",
              "      <td>...</td>\n",
              "      <td>...</td>\n",
              "      <td>...</td>\n",
              "    </tr>\n",
              "    <tr>\n",
              "      <th>696396</th>\n",
              "      <td>0.311471</td>\n",
              "      <td>0.135913</td>\n",
              "      <td>0.129603</td>\n",
              "      <td>0.463748</td>\n",
              "      <td>0.518065</td>\n",
              "      <td>0.043485</td>\n",
              "      <td>0.426505</td>\n",
              "      <td>0.361310</td>\n",
              "      <td>0.338538</td>\n",
              "      <td>0.395281</td>\n",
              "      <td>0.439977</td>\n",
              "      <td>0.451305</td>\n",
              "      <td>0.334371</td>\n",
              "      <td>0.445419</td>\n",
              "      <td>0.392843</td>\n",
              "      <td>0.463198</td>\n",
              "      <td>0.305127</td>\n",
              "      <td>0.472783</td>\n",
              "      <td>0.437032</td>\n",
              "      <td>0.370422</td>\n",
              "      <td>0.027777</td>\n",
              "    </tr>\n",
              "    <tr>\n",
              "      <th>696397</th>\n",
              "      <td>0.262954</td>\n",
              "      <td>0.136035</td>\n",
              "      <td>0.430010</td>\n",
              "      <td>0.422481</td>\n",
              "      <td>0.500100</td>\n",
              "      <td>0.050613</td>\n",
              "      <td>0.529713</td>\n",
              "      <td>0.570998</td>\n",
              "      <td>0.395073</td>\n",
              "      <td>0.348551</td>\n",
              "      <td>0.538691</td>\n",
              "      <td>0.498835</td>\n",
              "      <td>0.281237</td>\n",
              "      <td>0.437919</td>\n",
              "      <td>0.546400</td>\n",
              "      <td>0.414337</td>\n",
              "      <td>0.356888</td>\n",
              "      <td>0.448192</td>\n",
              "      <td>0.407133</td>\n",
              "      <td>0.474079</td>\n",
              "      <td>0.036432</td>\n",
              "    </tr>\n",
              "    <tr>\n",
              "      <th>696398</th>\n",
              "      <td>0.248245</td>\n",
              "      <td>0.103971</td>\n",
              "      <td>0.484808</td>\n",
              "      <td>0.372224</td>\n",
              "      <td>0.471605</td>\n",
              "      <td>0.064977</td>\n",
              "      <td>0.444653</td>\n",
              "      <td>0.436690</td>\n",
              "      <td>0.495585</td>\n",
              "      <td>0.301023</td>\n",
              "      <td>0.416216</td>\n",
              "      <td>0.574451</td>\n",
              "      <td>0.515635</td>\n",
              "      <td>0.421409</td>\n",
              "      <td>0.414334</td>\n",
              "      <td>0.462566</td>\n",
              "      <td>0.463516</td>\n",
              "      <td>0.469702</td>\n",
              "      <td>0.503220</td>\n",
              "      <td>0.485130</td>\n",
              "      <td>0.048933</td>\n",
              "    </tr>\n",
              "    <tr>\n",
              "      <th>696399</th>\n",
              "      <td>0.223616</td>\n",
              "      <td>0.128963</td>\n",
              "      <td>0.338667</td>\n",
              "      <td>0.336643</td>\n",
              "      <td>0.464198</td>\n",
              "      <td>0.064217</td>\n",
              "      <td>0.469150</td>\n",
              "      <td>0.375193</td>\n",
              "      <td>0.415288</td>\n",
              "      <td>0.360769</td>\n",
              "      <td>0.407157</td>\n",
              "      <td>0.424617</td>\n",
              "      <td>0.282580</td>\n",
              "      <td>0.412758</td>\n",
              "      <td>0.384522</td>\n",
              "      <td>0.481401</td>\n",
              "      <td>0.400946</td>\n",
              "      <td>0.443665</td>\n",
              "      <td>0.479461</td>\n",
              "      <td>0.465365</td>\n",
              "      <td>0.044159</td>\n",
              "    </tr>\n",
              "    <tr>\n",
              "      <th>696400</th>\n",
              "      <td>0.209163</td>\n",
              "      <td>0.129050</td>\n",
              "      <td>0.348980</td>\n",
              "      <td>0.334204</td>\n",
              "      <td>0.454329</td>\n",
              "      <td>0.066948</td>\n",
              "      <td>0.464489</td>\n",
              "      <td>0.304373</td>\n",
              "      <td>0.397820</td>\n",
              "      <td>0.386586</td>\n",
              "      <td>0.393047</td>\n",
              "      <td>0.443608</td>\n",
              "      <td>0.303029</td>\n",
              "      <td>0.387761</td>\n",
              "      <td>0.361614</td>\n",
              "      <td>0.409030</td>\n",
              "      <td>0.371271</td>\n",
              "      <td>0.472829</td>\n",
              "      <td>0.459002</td>\n",
              "      <td>0.463586</td>\n",
              "      <td>0.042346</td>\n",
              "    </tr>\n",
              "  </tbody>\n",
              "</table>\n",
              "<p>696401 rows × 21 columns</p>\n",
              "</div>"
            ],
            "text/plain": [
              "              0         1         2   ...        18        19        0 \n",
              "0       0.318647  0.127810  0.122800  ...  0.443230  0.470467  0.010035\n",
              "1       0.416204  0.193979  0.184739  ...  0.260828  0.479017  0.022248\n",
              "2       0.295659  0.076039  0.552322  ...  0.451073  0.477312  0.081629\n",
              "3       0.321404  0.147669  0.105922  ...  0.392048  0.336083  0.034653\n",
              "4       0.287103  0.117478  0.425341  ...  0.366153  0.369768  0.084274\n",
              "...          ...       ...       ...  ...       ...       ...       ...\n",
              "696396  0.311471  0.135913  0.129603  ...  0.437032  0.370422  0.027777\n",
              "696397  0.262954  0.136035  0.430010  ...  0.407133  0.474079  0.036432\n",
              "696398  0.248245  0.103971  0.484808  ...  0.503220  0.485130  0.048933\n",
              "696399  0.223616  0.128963  0.338667  ...  0.479461  0.465365  0.044159\n",
              "696400  0.209163  0.129050  0.348980  ...  0.459002  0.463586  0.042346\n",
              "\n",
              "[696401 rows x 21 columns]"
            ]
          },
          "metadata": {
            "tags": []
          },
          "execution_count": 29
        }
      ]
    },
    {
      "cell_type": "code",
      "metadata": {
        "id": "ylv0N3xzxfJg"
      },
      "source": [
        "import tensorflow\n",
        "tensorflow.random.set_seed(1)\n",
        "from tensorflow.python.keras.layers import Dense\n",
        "from tensorflow.keras.layers import Dropout\n",
        "from tensorflow.python.keras.models import Sequential\n",
        "from tensorflow.python.keras.wrappers.scikit_learn import KerasRegressor"
      ],
      "execution_count": null,
      "outputs": []
    },
    {
      "cell_type": "code",
      "metadata": {
        "colab": {
          "base_uri": "https://localhost:8080/"
        },
        "id": "QQrJwvJExk_J",
        "outputId": "4dae9d2f-7c1b-4b22-e519-667fe94a3442"
      },
      "source": [
        "model = Sequential()\n",
        "model.add(Dense(8, input_dim=20, kernel_initializer='normal', activation='relu'))\n",
        "model.add(Dense(256, activation='relu'))\n",
        "model.add(Dense(256, activation='relu'))\n",
        "model.add(Dense(256, activation='relu'))\n",
        "model.add(Dense(1, activation='linear'))\n",
        "model.summary()"
      ],
      "execution_count": null,
      "outputs": [
        {
          "output_type": "stream",
          "text": [
            "Model: \"sequential\"\n",
            "_________________________________________________________________\n",
            "Layer (type)                 Output Shape              Param #   \n",
            "=================================================================\n",
            "dense (Dense)                (None, 8)                 168       \n",
            "_________________________________________________________________\n",
            "dense_1 (Dense)              (None, 256)               2304      \n",
            "_________________________________________________________________\n",
            "dense_2 (Dense)              (None, 256)               65792     \n",
            "_________________________________________________________________\n",
            "dense_3 (Dense)              (None, 256)               65792     \n",
            "_________________________________________________________________\n",
            "dense_4 (Dense)              (None, 1)                 257       \n",
            "=================================================================\n",
            "Total params: 134,313\n",
            "Trainable params: 134,313\n",
            "Non-trainable params: 0\n",
            "_________________________________________________________________\n"
          ],
          "name": "stdout"
        }
      ]
    },
    {
      "cell_type": "code",
      "metadata": {
        "colab": {
          "base_uri": "https://localhost:8080/"
        },
        "id": "rJ3Iq1mcxn2A",
        "outputId": "67e9543a-4f16-4feb-8471-90772cb2b9e3"
      },
      "source": [
        "model.compile(loss='mse', optimizer='adam', metrics=['mse','mae'])\n",
        "history=model.fit(train_scaled, trainTarget_scaled, epochs=15, batch_size=5, verbose=1, validation_split=0.2)\n",
        "predictions = model.predict(test_scaled)"
      ],
      "execution_count": null,
      "outputs": [
        {
          "output_type": "stream",
          "text": [
            "Epoch 1/15\n",
            "111424/111424 [==============================] - 253s 2ms/step - loss: 0.0012 - mse: 0.0012 - mae: 0.0208 - val_loss: 0.0011 - val_mse: 0.0011 - val_mae: 0.0188\n",
            "Epoch 2/15\n",
            "111424/111424 [==============================] - 252s 2ms/step - loss: 0.0011 - mse: 0.0011 - mae: 0.0196 - val_loss: 0.0011 - val_mse: 0.0011 - val_mae: 0.0199\n",
            "Epoch 3/15\n",
            "111424/111424 [==============================] - 256s 2ms/step - loss: 0.0011 - mse: 0.0011 - mae: 0.0194 - val_loss: 0.0011 - val_mse: 0.0011 - val_mae: 0.0181\n",
            "Epoch 4/15\n",
            "111424/111424 [==============================] - 253s 2ms/step - loss: 0.0011 - mse: 0.0011 - mae: 0.0193 - val_loss: 0.0011 - val_mse: 0.0011 - val_mae: 0.0194\n",
            "Epoch 5/15\n",
            "111424/111424 [==============================] - 256s 2ms/step - loss: 0.0011 - mse: 0.0011 - mae: 0.0192 - val_loss: 0.0010 - val_mse: 0.0010 - val_mae: 0.0188\n",
            "Epoch 6/15\n",
            "111424/111424 [==============================] - 253s 2ms/step - loss: 0.0011 - mse: 0.0011 - mae: 0.0193 - val_loss: 0.0011 - val_mse: 0.0011 - val_mae: 0.0183\n",
            "Epoch 7/15\n",
            "111424/111424 [==============================] - 251s 2ms/step - loss: 0.0011 - mse: 0.0011 - mae: 0.0191 - val_loss: 0.0011 - val_mse: 0.0011 - val_mae: 0.0182\n",
            "Epoch 8/15\n",
            "111424/111424 [==============================] - 250s 2ms/step - loss: 0.0011 - mse: 0.0011 - mae: 0.0192 - val_loss: 0.0011 - val_mse: 0.0011 - val_mae: 0.0180\n",
            "Epoch 9/15\n",
            "111424/111424 [==============================] - 248s 2ms/step - loss: 0.0011 - mse: 0.0011 - mae: 0.0192 - val_loss: 0.0011 - val_mse: 0.0011 - val_mae: 0.0180\n",
            "Epoch 10/15\n",
            "111424/111424 [==============================] - 248s 2ms/step - loss: 0.0011 - mse: 0.0011 - mae: 0.0192 - val_loss: 0.0011 - val_mse: 0.0011 - val_mae: 0.0180\n",
            "Epoch 11/15\n",
            "111424/111424 [==============================] - 253s 2ms/step - loss: 0.0011 - mse: 0.0011 - mae: 0.0192 - val_loss: 0.0010 - val_mse: 0.0010 - val_mae: 0.0192\n",
            "Epoch 12/15\n",
            "111424/111424 [==============================] - 252s 2ms/step - loss: 0.0011 - mse: 0.0011 - mae: 0.0191 - val_loss: 0.0011 - val_mse: 0.0011 - val_mae: 0.0201\n",
            "Epoch 13/15\n",
            "111424/111424 [==============================] - 252s 2ms/step - loss: 0.0011 - mse: 0.0011 - mae: 0.0191 - val_loss: 0.0011 - val_mse: 0.0011 - val_mae: 0.0181\n",
            "Epoch 14/15\n",
            "111424/111424 [==============================] - 251s 2ms/step - loss: 0.0011 - mse: 0.0011 - mae: 0.0191 - val_loss: 0.0011 - val_mse: 0.0011 - val_mae: 0.0183\n",
            "Epoch 15/15\n",
            "111424/111424 [==============================] - 251s 2ms/step - loss: 0.0011 - mse: 0.0011 - mae: 0.0191 - val_loss: 0.0011 - val_mse: 0.0011 - val_mae: 0.0180\n"
          ],
          "name": "stdout"
        }
      ]
    },
    {
      "cell_type": "code",
      "metadata": {
        "colab": {
          "base_uri": "https://localhost:8080/",
          "height": 312
        },
        "id": "66iXht4mxoMH",
        "outputId": "9b36f142-ec32-4d59-97f4-2a3e096fc843"
      },
      "source": [
        "print(history.history.keys())\n",
        "# \"Loss\"\n",
        "plt.plot(history.history['loss'])\n",
        "plt.plot(history.history['val_loss'])\n",
        "plt.title('model loss')\n",
        "plt.ylabel('loss')\n",
        "plt.xlabel('epoch')\n",
        "plt.legend(['train', 'validation'], loc='upper left')\n",
        "plt.show()"
      ],
      "execution_count": null,
      "outputs": [
        {
          "output_type": "stream",
          "text": [
            "dict_keys(['loss', 'mse', 'mae', 'val_loss', 'val_mse', 'val_mae'])\n"
          ],
          "name": "stdout"
        },
        {
          "output_type": "display_data",
          "data": {
            "image/png": "[encoded data removed]",
            "text/plain": [
              "<Figure size 432x288 with 1 Axes>"
            ]
          },
          "metadata": {
            "tags": [],
            "needs_background": "light"
          }
        }
      ]
    },
    {
      "cell_type": "code",
      "metadata": {
        "id": "HObX4ZdZxoRK"
      },
      "source": [
        "\n",
        "predictionstrain = model.predict(train_scaled)\n",
        "\n",
        "y_pred = scalertarget.inverse_transform(predictions)"
      ],
      "execution_count": null,
      "outputs": []
    },
    {
      "cell_type": "code",
      "metadata": {
        "id": "AJbTSsT-m4Yf"
      },
      "source": [
        "y_true = scalertarget.inverse_transform(testTarget_scaled)"
      ],
      "execution_count": null,
      "outputs": []
    },
    {
      "cell_type": "code",
      "metadata": {
        "id": "Mr799iEVzbTY",
        "colab": {
          "base_uri": "https://localhost:8080/"
        },
        "outputId": "22680b96-e862-408f-cb77-80438734eabd"
      },
      "source": [
        "import sklearn.metrics\n",
        "r2_score = sklearn.metrics.r2_score(testTarget_scaled, predictions)\n",
        "r2_scoret = sklearn.metrics.r2_score(trainTarget_scaled, predictionstrain)\n",
        "print('r2_score on test: {0}'.format(r2_score))\n",
        "print('r2_score on train: {0}'.format(r2_scoret))\n"
      ],
      "execution_count": null,
      "outputs": [
        {
          "output_type": "stream",
          "text": [
            "r2_score on test: 0.6034100150436736\n",
            "r2_score on train: 0.6042510203190618\n"
          ],
          "name": "stdout"
        }
      ]
    },
    {
      "cell_type": "code",
      "metadata": {
        "id": "AiOmSEqrzbjt"
      },
      "source": [
        ""
      ],
      "execution_count": null,
      "outputs": []
    }
  ]
}